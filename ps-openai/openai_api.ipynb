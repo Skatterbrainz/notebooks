{
 "cells": [
  {
   "cell_type": "markdown",
   "metadata": {},
   "source": [
    "# OpenAI with PowerShell"
   ]
  },
  {
   "cell_type": "markdown",
   "metadata": {},
   "source": [
    "### Overview"
   ]
  },
  {
   "attachments": {},
   "cell_type": "markdown",
   "metadata": {},
   "source": [
    "* What is OpenAI? ChatGPT?\n",
    "* OpenAI vs. ChatGPT / InstructGPT\n",
    "  * LLM = Large Language Model (2019, 2021)\n",
    "  * AGI = Artificial General Intelligence\n",
    "  * Subscription / Pricing / Tokens / Orgs / Budgets\n",
    "  * Other LLMs: Google Bard\n",
    "* REST API\n",
    "  * GPT-3, Codex, DALL-E\n",
    "  * Models: ada, babbage, curie, davinci\n",
    "  * Completions\n",
    "  * Moderations\n",
    "  * Edits\n",
    "  * Fine-Tuning\n",
    "  * Embeddings\n",
    "  * more...\n",
    "* Prompts and Prompt Engineering\n",
    "  * Phrasing / Ordering\n",
    "* Thanks to Doug Finke for his [PowerShellAI](https://www.powershellgallery.com/packages/PowerShellAI/) module!"
   ]
  },
  {
   "cell_type": "markdown",
   "metadata": {},
   "source": [
    "#### Example A\n",
    "\n",
    "_How do I use MS Graph?_\n",
    "\n",
    "#### Example B\n",
    "\n",
    "_Show me how to connect to MS Graph with PowerShell_\n",
    "\n",
    "#### Example C\n",
    "\n",
    "_Without explaining, write the PowerShell code to connect to Microsoft Graph and query all Azure AD user accounts_"
   ]
  },
  {
   "cell_type": "markdown",
   "metadata": {},
   "source": [
    "### Preparation"
   ]
  },
  {
   "cell_type": "markdown",
   "metadata": {},
   "source": [
    "* Create an OpenAI Account\n",
    "  * Read Pricing information: https://openai.com/api/pricing/\n",
    "  * Review and try examples: https://platform.openai.com/examples\n",
    "  * Create an API key (copy to clipboard)\n",
    "* Store API key in a safe place (key vault, etc.)\n",
    "* Import into environment variable \"OpenAIKey\" ($env:OpenAIKey)\n",
    "* Install-Module PowerShellAI"
   ]
  },
  {
   "cell_type": "markdown",
   "metadata": {},
   "source": [
    "### Using the API"
   ]
  },
  {
   "cell_type": "markdown",
   "metadata": {},
   "source": [
    "Using CURL"
   ]
  },
  {
   "cell_type": "code",
   "execution_count": null,
   "metadata": {
    "dotnet_interactive": {
     "language": "pwsh"
    },
    "polyglot_notebook": {
     "kernelName": "pwsh"
    },
    "vscode": {
     "languageId": "polyglot-notebook"
    }
   },
   "outputs": [],
   "source": [
    "curl https://api.openai.com/v1/completions `\n",
    "\t-H 'Content-Type: application/json' `\n",
    "\t-H \"Authorization: Bearer $($env:OpenAIKey)\" `\n",
    "\t-d '{\n",
    "\t\t\"model\": \"text-davinci-003\",\n",
    "\t\t\"prompt\": \"List the 3 most populated US states with population, and abbreviation, output as a markdown table\",\n",
    "\t\t\"max_tokens\": 1000,\n",
    "\t\t\"temperature\": 0\n",
    "\t}'"
   ]
  },
  {
   "cell_type": "markdown",
   "metadata": {},
   "source": [
    "Using Python 3"
   ]
  },
  {
   "cell_type": "code",
   "execution_count": null,
   "metadata": {
    "dotnet_interactive": {
     "language": "csharp"
    },
    "polyglot_notebook": {
     "kernelName": "csharp"
    },
    "vscode": {
     "languageId": "python"
    }
   },
   "outputs": [],
   "source": [
    "# python\n",
    "import os\n",
    "import openai\n",
    "openai.api_key = open('pykey.txt').read()\n",
    "# openai.api_key = os.getenv('OpenAIKey')\n",
    "\n",
    "question = \"List the 3 most populated US states with population, and abbreviation, output in json format\"\n",
    "aimodel = \"text-davinci-003\"\n",
    "\n",
    "os.system('cls')\n",
    "print('Submitting request to openai...')\n",
    "response = openai.Completion.create(model=aimodel,prompt=question,temperature=0,max_tokens=1000)\n",
    "print(response.choices[0].text)"
   ]
  },
  {
   "cell_type": "markdown",
   "metadata": {},
   "source": [
    "Invoke Script (Example)"
   ]
  },
  {
   "cell_type": "code",
   "execution_count": null,
   "metadata": {
    "dotnet_interactive": {
     "language": "csharp"
    },
    "polyglot_notebook": {
     "kernelName": "csharp"
    },
    "vscode": {
     "languageId": "python"
    }
   },
   "outputs": [],
   "source": [
    "# python\n",
    "import os\n",
    "os.chdir('C:\\\\git\\\\powershell-labs')\n",
    "os.system('cls')\n",
    "exec(open('openaisample.py').read())"
   ]
  },
  {
   "cell_type": "markdown",
   "metadata": {},
   "source": [
    "Using PowerShell"
   ]
  },
  {
   "cell_type": "code",
   "execution_count": null,
   "metadata": {
    "dotnet_interactive": {
     "language": "pwsh"
    },
    "polyglot_notebook": {
     "kernelName": "pwsh"
    },
    "vscode": {
     "languageId": "polyglot-notebook"
    }
   },
   "outputs": [],
   "source": [
    "$headers = @{\n",
    "\t'Content-Type'='application/json';\n",
    "\t'Authorization'=\"Bearer $($env:OpenAIKey)\"\n",
    "}\n",
    "\n",
    "$body = @{\n",
    "\t\"model\" = \"text-davinci-003\"\n",
    "\t\"prompt\" = \"List the 3 most populated US states with population, and abbreviation, output in XML\"\n",
    "\t\"max_tokens\" = 1000\n",
    "\t\"temperature\" = 0\n",
    "} | ConvertTo-Json\n",
    "\n",
    "Invoke-RestMethod -Uri 'https://api.openai.com/v1/completions' -Headers $headers -Method POST -Body $body"
   ]
  },
  {
   "cell_type": "code",
   "execution_count": null,
   "metadata": {
    "dotnet_interactive": {
     "language": "pwsh"
    },
    "polyglot_notebook": {
     "kernelName": "pwsh"
    },
    "vscode": {
     "languageId": "polyglot-notebook"
    }
   },
   "outputs": [],
   "source": [
    "$response = Invoke-RestMethod -Uri 'https://api.openai.com/v1/completions' -Headers $headers -Method POST -Body $body\n",
    "$response.choices | % { $_.text }"
   ]
  },
  {
   "cell_type": "code",
   "execution_count": null,
   "metadata": {
    "dotnet_interactive": {
     "language": "pwsh"
    },
    "polyglot_notebook": {
     "kernelName": "pwsh"
    },
    "vscode": {
     "languageId": "polyglot-notebook"
    }
   },
   "outputs": [],
   "source": [
    "$body = @{\n",
    "\t\"model\" = \"text-curie-001\"\n",
    "\t\"prompt\" = \"Translate to Spanish: I really love my job!\"\n",
    "\t\"max_tokens\" = 10\n",
    "\t\"temperature\" = 0\n",
    "} | ConvertTo-Json\n",
    "$response = Invoke-RestMethod -Uri 'https://api.openai.com/v1/completions' -Headers $headers -Method POST -Body $body\n",
    "$response.choices | % { $_.text }"
   ]
  },
  {
   "cell_type": "markdown",
   "metadata": {},
   "source": [
    "### PowerShellAI"
   ]
  },
  {
   "cell_type": "markdown",
   "metadata": {},
   "source": [
    "* PowerShell Module written by Doug Finke (author of \"ImportExcel\") YouTube/GitHub: @DougFinke\n",
    "* Provides a similar capability to the Python wrapper for the OpenAI API\n",
    "* Install-Module PowerShellAI\n",
    "* Uses an environment variable to store the API key (\"OpenAIKey\")"
   ]
  },
  {
   "cell_type": "markdown",
   "metadata": {},
   "source": [
    "#### Completions"
   ]
  },
  {
   "cell_type": "code",
   "execution_count": null,
   "metadata": {
    "dotnet_interactive": {
     "language": "pwsh"
    },
    "polyglot_notebook": {
     "kernelName": "pwsh"
    },
    "vscode": {
     "languageId": "polyglot-notebook"
    }
   },
   "outputs": [],
   "source": [
    "Get-GPT3Completion -Prompt \"If it is 9:45 PM in Virginia right now, what time is it in Seattle?\""
   ]
  },
  {
   "cell_type": "code",
   "execution_count": null,
   "metadata": {
    "dotnet_interactive": {
     "language": "pwsh"
    },
    "polyglot_notebook": {
     "kernelName": "pwsh"
    },
    "vscode": {
     "languageId": "polyglot-notebook"
    }
   },
   "outputs": [],
   "source": [
    "ai \"If John is 42 years old, Bob is 40 years old, and Ray is older than Bob but younger than John, how old is Ray?\""
   ]
  },
  {
   "cell_type": "code",
   "execution_count": null,
   "metadata": {
    "dotnet_interactive": {
     "language": "pwsh"
    },
    "polyglot_notebook": {
     "kernelName": "pwsh"
    },
    "vscode": {
     "languageId": "polyglot-notebook"
    }
   },
   "outputs": [],
   "source": [
    "$text = @\"\n",
    "Write the comment help for the following powershell function:\n",
    "\n",
    "function Get-DeptName {\n",
    "\tparam (\n",
    "\t\t[parameter(Mandatory)][int]$DeptID,\n",
    "\t\t[parameter()][string]$SqlInstance = \"sql001.contoso.local\",\n",
    "\t\t[parameter()][string]$Database = \"orginfo\"\n",
    "\t)\n",
    "\tInvoke-DbaQuery -SqlInstance $SqlInstance -Database $Database -Query \"select name from dept where id=$DeptID\"\n",
    "}\n",
    "\"@\n",
    "\n",
    "ai $text"
   ]
  },
  {
   "cell_type": "markdown",
   "metadata": {},
   "source": [
    "Leverage PowerShellAI and ImportExcel modules"
   ]
  },
  {
   "cell_type": "code",
   "execution_count": null,
   "metadata": {
    "dotnet_interactive": {
     "language": "pwsh"
    },
    "polyglot_notebook": {
     "kernelName": "pwsh"
    },
    "vscode": {
     "languageId": "polyglot-notebook"
    }
   },
   "outputs": [],
   "source": [
    "ai \"last 5 states to join the nation, with their abbreviations and the year they joined, as a markdown table\" |\n",
    "\tConvertFrom-GPTMarkdownTable | Export-Excel -Show"
   ]
  },
  {
   "cell_type": "markdown",
   "metadata": {},
   "source": [
    "Get commit description by asking OpenAI to analyze the git changes"
   ]
  },
  {
   "cell_type": "code",
   "execution_count": null,
   "metadata": {
    "dotnet_interactive": {
     "language": "pwsh"
    },
    "polyglot_notebook": {
     "kernelName": "pwsh"
    },
    "vscode": {
     "languageId": "polyglot-notebook"
    }
   },
   "outputs": [],
   "source": [
    "cd \"c:\\git\\powershell-labs\"\n",
    "git stage --all\n",
    "git status | ai \"write me a detailed commit message for the staged changes in this repo\""
   ]
  },
  {
   "cell_type": "markdown",
   "metadata": {},
   "source": [
    "Stage and Commit changes with AI-generated commit message"
   ]
  },
  {
   "cell_type": "code",
   "execution_count": null,
   "metadata": {
    "dotnet_interactive": {
     "language": "pwsh"
    },
    "polyglot_notebook": {
     "kernelName": "pwsh"
    },
    "vscode": {
     "languageId": "polyglot-notebook"
    }
   },
   "outputs": [],
   "source": [
    "cd \"c:\\git\\azurelabs\"\n",
    "git stage --all\n",
    "git status | ai \"write me a detailed commit message for the staged changes in this repo\" | % { git commit -m \"$($_)\" }\n",
    "git push"
   ]
  },
  {
   "cell_type": "markdown",
   "metadata": {},
   "source": [
    "#### Moderations"
   ]
  },
  {
   "cell_type": "markdown",
   "metadata": {},
   "source": [
    "* Definition: Given a input text, outputs if the model classifies it as violating OpenAI's content policy.\n",
    "* 7 deadly categories: sexual, hate, violence, self-harm, sexual/minors, hate/threatening, violence/graphic\n",
    "* Supported models: text-moderation-stable, text-moderation-latest\n",
    "* Reference: https://platform.openai.com/docs/api-reference/moderations"
   ]
  },
  {
   "cell_type": "code",
   "execution_count": null,
   "metadata": {
    "dotnet_interactive": {
     "language": "pwsh"
    },
    "polyglot_notebook": {
     "kernelName": "pwsh"
    },
    "vscode": {
     "languageId": "polyglot-notebook"
    }
   },
   "outputs": [],
   "source": [
    "Get-OpenAIModeration \"I hate McAfee antivirus\""
   ]
  },
  {
   "cell_type": "code",
   "execution_count": null,
   "metadata": {
    "dotnet_interactive": {
     "language": "pwsh"
    },
    "polyglot_notebook": {
     "kernelName": "pwsh"
    },
    "vscode": {
     "languageId": "polyglot-notebook"
    }
   },
   "outputs": [],
   "source": [
    "Get-OpenAIModeration \"I want to destroy McAfee antivirus.\" | foreach {\n",
    "\t$_.psobject.properties | where {$_.Value -eq $true} | select name\n",
    "}"
   ]
  },
  {
   "cell_type": "code",
   "execution_count": null,
   "metadata": {
    "dotnet_interactive": {
     "language": "pwsh"
    },
    "polyglot_notebook": {
     "kernelName": "pwsh"
    },
    "vscode": {
     "languageId": "polyglot-notebook"
    }
   },
   "outputs": [],
   "source": [
    "Get-OpenAIModeration \"I want to destroy them.\" | foreach {\n",
    "\t$_.psobject.properties | where {$_.Value -eq $true} | select name\n",
    "}"
   ]
  },
  {
   "cell_type": "code",
   "execution_count": null,
   "metadata": {
    "dotnet_interactive": {
     "language": "pwsh"
    },
    "polyglot_notebook": {
     "kernelName": "pwsh"
    },
    "vscode": {
     "languageId": "polyglot-notebook"
    }
   },
   "outputs": [],
   "source": [
    "Get-OpenAIModeration \"I want to smash it with a hammer!\" | foreach {\n",
    "\t$_.psobject.properties | where {$_.Value -eq $true} | select name\n",
    "}"
   ]
  },
  {
   "cell_type": "code",
   "execution_count": null,
   "metadata": {
    "dotnet_interactive": {
     "language": "pwsh"
    },
    "polyglot_notebook": {
     "kernelName": "pwsh"
    },
    "vscode": {
     "languageId": "polyglot-notebook"
    }
   },
   "outputs": [],
   "source": [
    "Get-OpenAIModeration \"I want to smash them with a hammer!\" | foreach {\n",
    "\t$_.psobject.properties | where {$_.Value -eq $true} | select name\n",
    "}"
   ]
  },
  {
   "cell_type": "code",
   "execution_count": null,
   "metadata": {
    "dotnet_interactive": {
     "language": "pwsh"
    },
    "polyglot_notebook": {
     "kernelName": "pwsh"
    },
    "vscode": {
     "languageId": "polyglot-notebook"
    }
   },
   "outputs": [],
   "source": [
    "Get-OpenAIModeration \"I want to destroy them.\" | foreach { $_.psobject.properties | where {$_.Value -eq $true} | select name }"
   ]
  },
  {
   "cell_type": "markdown",
   "metadata": {},
   "source": [
    "#### Edits"
   ]
  },
  {
   "cell_type": "markdown",
   "metadata": {},
   "source": [
    "* Definition: Given a prompt and an instruction, the model will return an edited version of the prompt\n",
    "* Supported models: text-davinci-edit-001 or code-davinci-edit-001\n",
    "* Reference: https://platform.openai.com/docs/api-reference/edits"
   ]
  },
  {
   "cell_type": "code",
   "execution_count": null,
   "metadata": {
    "dotnet_interactive": {
     "language": "pwsh"
    },
    "polyglot_notebook": {
     "kernelName": "pwsh"
    },
    "vscode": {
     "languageId": "polyglot-notebook"
    }
   },
   "outputs": [],
   "source": [
    "Get-OpenAIEdit \"Nams of first thre presidents of the US\" -Instruction \"fix the spelling mistakes\""
   ]
  },
  {
   "cell_type": "markdown",
   "metadata": {},
   "source": [
    "### More"
   ]
  },
  {
   "cell_type": "code",
   "execution_count": null,
   "metadata": {
    "dotnet_interactive": {
     "language": "pwsh"
    },
    "polyglot_notebook": {
     "kernelName": "pwsh"
    },
    "vscode": {
     "languageId": "polyglot-notebook"
    }
   },
   "outputs": [],
   "source": [
    "gpt \"write a powershell function to return the intersection elements of two arrays\""
   ]
  },
  {
   "cell_type": "code",
   "execution_count": null,
   "metadata": {
    "dotnet_interactive": {
     "language": "pwsh"
    },
    "polyglot_notebook": {
     "kernelName": "pwsh"
    },
    "vscode": {
     "languageId": "polyglot-notebook"
    }
   },
   "outputs": [],
   "source": [
    "ai \"last 5 states to join the nation, with their abbreviations and the year they joined\""
   ]
  },
  {
   "cell_type": "code",
   "execution_count": null,
   "metadata": {
    "dotnet_interactive": {
     "language": "pwsh"
    },
    "polyglot_notebook": {
     "kernelName": "pwsh"
    },
    "vscode": {
     "languageId": "polyglot-notebook"
    }
   },
   "outputs": [],
   "source": [
    "ai \"last 5 states to join the nation, with their abbreviations and the year they joined, as a markdown table\""
   ]
  },
  {
   "cell_type": "code",
   "execution_count": null,
   "metadata": {
    "dotnet_interactive": {
     "language": "pwsh"
    },
    "polyglot_notebook": {
     "kernelName": "pwsh"
    },
    "vscode": {
     "languageId": "polyglot-notebook"
    }
   },
   "outputs": [],
   "source": [
    "ai \"last 5 states to join the nation, with their abbreviations and the year they joined, as a markdown table\" | ConvertFrom-GPTMarkdownTable"
   ]
  },
  {
   "cell_type": "markdown",
   "metadata": {},
   "source": [
    "### Doug's Examples (NYPSUG)"
   ]
  },
  {
   "cell_type": "code",
   "execution_count": null,
   "metadata": {
    "dotnet_interactive": {
     "language": "pwsh"
    },
    "polyglot_notebook": {
     "kernelName": "pwsh"
    },
    "vscode": {
     "languageId": "polyglot-notebook"
    }
   },
   "outputs": [],
   "source": [
    "$p = '\n",
    "For SQL create a customer table with the following columns:\n",
    "id\n",
    "First Name\n",
    "Last Name\n",
    "City\n",
    "State\n",
    "Postal\n",
    "Country\n",
    "WorkPhone\n",
    "'\n",
    "Get-GPT3Completion $p"
   ]
  },
  {
   "cell_type": "code",
   "execution_count": null,
   "metadata": {
    "dotnet_interactive": {
     "language": "pwsh"
    },
    "polyglot_notebook": {
     "kernelName": "pwsh"
    },
    "vscode": {
     "languageId": "polyglot-notebook"
    }
   },
   "outputs": [],
   "source": [
    "Get-GPT3Completion 'If cell A1 is less than 10 show \"yes\" otherwise show \"no\"'"
   ]
  },
  {
   "cell_type": "code",
   "execution_count": null,
   "metadata": {
    "dotnet_interactive": {
     "language": "pwsh"
    },
    "polyglot_notebook": {
     "kernelName": "pwsh"
    },
    "vscode": {
     "languageId": "polyglot-notebook"
    }
   },
   "outputs": [],
   "source": [
    "ai \"write a function name 'FizzBuzz' that prints the numbers from 1 to 16, using PowerShell\""
   ]
  }
 ],
 "metadata": {
  "language_info": {
   "name": "csharp"
  },
  "orig_nbformat": 4
 },
 "nbformat": 4,
 "nbformat_minor": 2
}
