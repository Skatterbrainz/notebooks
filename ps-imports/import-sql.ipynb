{
 "cells": [
  {
   "attachments": {},
   "cell_type": "markdown",
   "metadata": {},
   "source": [
    "# Reading SQL Databases"
   ]
  },
  {
   "attachments": {},
   "cell_type": "markdown",
   "metadata": {},
   "source": [
    "Information stored in a SQL relational database resides in \"tables\", or \"views\". This information can be queried directly, or it can provided by invoking a Stored Procedure or Function."
   ]
  },
  {
   "attachments": {},
   "cell_type": "markdown",
   "metadata": {},
   "source": [
    "### Using DbaTools Module"
   ]
  },
  {
   "cell_type": "code",
   "execution_count": null,
   "metadata": {
    "dotnet_interactive": {
     "language": "pwsh"
    },
    "polyglot_notebook": {
     "kernelName": "pwsh"
    },
    "vscode": {
     "languageId": "polyglot-notebook"
    }
   },
   "outputs": [],
   "source": [
    "if (Get-Module dbatools -ListAvailable) {\n",
    "\t$computerNames = Invoke-DbaQuery -SqlInstance \"db1.contoso.local\" -Database \"Inventory\" -Query \"select devicename from devices order by devicename\"\n",
    "}"
   ]
  },
  {
   "cell_type": "code",
   "execution_count": null,
   "metadata": {
    "dotnet_interactive": {
     "language": "pwsh"
    },
    "polyglot_notebook": {
     "kernelName": "pwsh"
    },
    "vscode": {
     "languageId": "polyglot-notebook"
    }
   },
   "outputs": [],
   "source": [
    "# splatted version\n",
    "\n",
    "if (Get-Module dbatools -ListAvailable) {\n",
    "\t$params = @{\n",
    "\t\tSqlInstance = \"db1.contoso.local\"\n",
    "\t\tDatabase = \"Inventory\"\n",
    "\t\tQuery = \"select devicename from devices order by devicename\"\n",
    "\t}\n",
    "\t$computerNames = Invoke-DbaQuery @params\n",
    "}"
   ]
  }
 ],
 "metadata": {
  "language_info": {
   "name": "csharp"
  },
  "orig_nbformat": 4
 },
 "nbformat": 4,
 "nbformat_minor": 2
}
