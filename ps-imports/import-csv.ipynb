{
 "cells": [
  {
   "attachments": {},
   "cell_type": "markdown",
   "metadata": {},
   "source": [
    "# Reading CSV files"
   ]
  },
  {
   "cell_type": "markdown",
   "metadata": {},
   "source": [
    "This method imports from a CSV, or comma-separated value, format file. The file extension .csv is most commonly used, but the Import-Csv cmdlet doesn't really care what the filename or extension are.  Refer to \"computers.csv\" for an example of this type of format.  Also, as long as there exists a column named \"Name\", any other (or no other) columns matter. You could use a file with only one column, or 100 columns. The example below will only look for values under the \"Name\" column. [Download the sample file here](./computers.csv)"
   ]
  },
  {
   "cell_type": "code",
   "execution_count": null,
   "metadata": {
    "dotnet_interactive": {
     "language": "pwsh"
    },
    "polyglot_notebook": {
     "kernelName": "pwsh"
    },
    "vscode": {
     "languageId": "polyglot-notebook"
    }
   },
   "outputs": [],
   "source": [
    "$filename = \".\\computers.csv\"\n",
    "$computers = Import-Csv -Path $filename\n",
    "$computers"
   ]
  },
  {
   "cell_type": "code",
   "execution_count": null,
   "metadata": {
    "dotnet_interactive": {
     "language": "pwsh"
    },
    "polyglot_notebook": {
     "kernelName": "pwsh"
    },
    "vscode": {
     "languageId": "polyglot-notebook"
    }
   },
   "outputs": [],
   "source": [
    "$computers.name"
   ]
  },
  {
   "cell_type": "code",
   "execution_count": null,
   "metadata": {
    "dotnet_interactive": {
     "language": "pwsh"
    },
    "polyglot_notebook": {
     "kernelName": "pwsh"
    },
    "vscode": {
     "languageId": "polyglot-notebook"
    }
   },
   "outputs": [],
   "source": [
    "$computers[0]"
   ]
  },
  {
   "cell_type": "markdown",
   "metadata": {},
   "source": [
    "### Reading Tab-delimited files"
   ]
  },
  {
   "attachments": {},
   "cell_type": "markdown",
   "metadata": {},
   "source": [
    "Tab-delimited files are simply a variation on CSV files. The only difference is what character is used to delimit each column within each row. In this case, a Tab character is used. You can easily substitute other characters to accommodate different file formats, for example a semi-colon \";\", pipe \"|\", caret \"^\", and so on. Other than that, it works the same as importing CSV data. [Download the sample file here](./computers.tsv)"
   ]
  },
  {
   "cell_type": "code",
   "execution_count": null,
   "metadata": {
    "dotnet_interactive": {
     "language": "pwsh"
    },
    "polyglot_notebook": {
     "kernelName": "pwsh"
    },
    "vscode": {
     "languageId": "polyglot-notebook"
    }
   },
   "outputs": [],
   "source": [
    "$filename = \".\\computers.tsv\" # extension really doesn't matter\n",
    "$computerNames = Import-Csv -Path $filename -Delimiter \"`t\" | Select-Object -ExpandProperty Name"
   ]
  }
 ],
 "metadata": {
  "language_info": {
   "name": "csharp"
  },
  "orig_nbformat": 4
 },
 "nbformat": 4,
 "nbformat_minor": 2
}
