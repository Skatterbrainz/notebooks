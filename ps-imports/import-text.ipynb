{
 "cells": [
  {
   "attachments": {},
   "cell_type": "markdown",
   "metadata": {},
   "source": [
    "# Reading TEXT files"
   ]
  },
  {
   "cell_type": "markdown",
   "metadata": {},
   "source": [
    "This method imports data from an ASCII text file, where each value is separated on its own line (line feed). Refer to \"computers.txt\" sample file in this same path for what the expected format would look like.  [Download the sample file here](./computers.txt)"
   ]
  },
  {
   "cell_type": "code",
   "execution_count": null,
   "metadata": {
    "dotnet_interactive": {
     "language": "pwsh"
    },
    "polyglot_notebook": {
     "kernelName": "pwsh"
    },
    "vscode": {
     "languageId": "polyglot-notebook"
    }
   },
   "outputs": [],
   "source": [
    "$filename = \".\\computers.txt\"\n",
    "$computerNames = Get-Content -Path $filename"
   ]
  },
  {
   "attachments": {},
   "cell_type": "markdown",
   "metadata": {},
   "source": [
    "Because TEXT files are often \"unstructured\", you need to apply more steps to extract information in a structured form to use for other processes."
   ]
  }
 ],
 "metadata": {
  "language_info": {
   "name": "csharp"
  },
  "orig_nbformat": 4
 },
 "nbformat": 4,
 "nbformat_minor": 2
}
