{
 "cells": [
  {
   "attachments": {},
   "cell_type": "markdown",
   "metadata": {},
   "source": [
    "# Reading XML files"
   ]
  },
  {
   "cell_type": "markdown",
   "metadata": {},
   "source": [
    "XML files can provide different structures based on elements and attributes. A basic element-based XML document provides information wrapped in matching tags, very much like HTML, but without any embedded attributes. The following example shows an element-based file. [Download the sample file here](./computers.xml)"
   ]
  },
  {
   "cell_type": "markdown",
   "metadata": {},
   "source": [
    "```xml\n",
    "<?xml version='1.0'?>\n",
    "<computers>\n",
    "\t<computer>dc01</computer>\n",
    "\t<computer>db01</computer>\n",
    "\t<computer>fs01</computer>\n",
    "</computers>\n",
    "```"
   ]
  },
  {
   "cell_type": "code",
   "execution_count": null,
   "metadata": {
    "dotnet_interactive": {
     "language": "pwsh"
    },
    "polyglot_notebook": {
     "kernelName": "pwsh"
    },
    "vscode": {
     "languageId": "polyglot-notebook"
    }
   },
   "outputs": [],
   "source": [
    "$xdata = [xml](Get-Content -Path \".\\computers.xml\")\n",
    "$xdata.computers.computer"
   ]
  },
  {
   "cell_type": "markdown",
   "metadata": {},
   "source": [
    "Another format XML uses are elements with attributes:\n",
    "\n",
    "```xml\n",
    "<?xml version='1.0'?>\n",
    "<computers>\n",
    "\t<computer name=\"dc01\" os=\"Windows Server 2022\" cpu=\"2\" memory=\"4\"></computer>\n",
    "\t<computer name=\"db01\" os=\"Windows Server 2019\" cpu=\"4\" memory=\"8\"></computer>\n",
    "\t<computer name=\"fs01\" os=\"Windows Server 2022\" cpu=\"8\" memory=\"32\"></computer>\n",
    "</computers>\n",
    "```\n",
    "[Download the sample file here](./computers2.xml)"
   ]
  },
  {
   "cell_type": "code",
   "execution_count": null,
   "metadata": {
    "dotnet_interactive": {
     "language": "pwsh"
    },
    "polyglot_notebook": {
     "kernelName": "pwsh"
    },
    "vscode": {
     "languageId": "polyglot-notebook"
    }
   },
   "outputs": [],
   "source": [
    "$xdata = [xml](Get-Content -Path \".\\computers2.xml\")\n",
    "$xdata.computers.computer"
   ]
  }
 ],
 "metadata": {
  "language_info": {
   "name": "csharp"
  },
  "orig_nbformat": 4
 },
 "nbformat": 4,
 "nbformat_minor": 2
}
