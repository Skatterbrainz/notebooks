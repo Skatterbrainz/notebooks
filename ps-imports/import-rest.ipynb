{
 "cells": [
  {
   "attachments": {},
   "cell_type": "markdown",
   "metadata": {},
   "source": [
    "# Reading REST API data"
   ]
  },
  {
   "cell_type": "code",
   "execution_count": null,
   "metadata": {
    "dotnet_interactive": {
     "language": "pwsh"
    },
    "polyglot_notebook": {
     "kernelName": "pwsh"
    },
    "vscode": {
     "languageId": "polyglot-notebook"
    }
   },
   "outputs": [],
   "source": [
    "$uri = 'https://datausa.io/api/data?drilldowns=Nation&measures=Population'\n",
    "$response = Invoke-RestMethod -Method Get -UseBasicParsing -Uri $uri\n",
    "$response.data\n",
    "\n",
    "# Microsoft Graph\n",
    "Connect-MgGraph -Scopes \"User.Read.All\"\n",
    "$computerNames = Get-MgDevice -Filter \"\""
   ]
  }
 ],
 "metadata": {
  "language_info": {
   "name": "csharp"
  },
  "orig_nbformat": 4
 },
 "nbformat": 4,
 "nbformat_minor": 2
}
