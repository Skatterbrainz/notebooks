{
 "cells": [
  {
   "attachments": {},
   "cell_type": "markdown",
   "metadata": {},
   "source": [
    "# Reading API data"
   ]
  },
  {
   "attachments": {},
   "cell_type": "markdown",
   "metadata": {},
   "source": [
    "### Microsoft Exchange"
   ]
  },
  {
   "cell_type": "code",
   "execution_count": null,
   "metadata": {
    "dotnet_interactive": {
     "language": "pwsh"
    },
    "polyglot_notebook": {
     "kernelName": "pwsh"
    },
    "vscode": {
     "languageId": "polyglot-notebook"
    }
   },
   "outputs": [],
   "source": [
    "$computerNames | Foreach-Object {\n",
    "\t$params = @{\n",
    "\t\tServer = $_\n",
    "\t\tStart = \"03/13/2022 09:00:00\"\n",
    "\t\tEnd = \"03/25/2022 17:00:00\"\n",
    "\t\tMessageSubject = \"Project MK-Ultra\"\n",
    "\t\tResultSize = 'Unlimited'\n",
    "\t}\n",
    "\t$logs = Get-MessageTrackingLog @params\n",
    "}"
   ]
  }
 ],
 "metadata": {
  "language_info": {
   "name": "csharp"
  },
  "orig_nbformat": 4
 },
 "nbformat": 4,
 "nbformat_minor": 2
}
