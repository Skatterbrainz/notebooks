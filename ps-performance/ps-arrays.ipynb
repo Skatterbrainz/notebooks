{
 "cells": [
  {
   "attachments": {},
   "cell_type": "markdown",
   "metadata": {},
   "source": [
    "# PowerShell: Arrays and Lists"
   ]
  },
  {
   "cell_type": "markdown",
   "metadata": {},
   "source": [
    "Compare performance of appending an array within a Foreach-Object and for() loops"
   ]
  },
  {
   "cell_type": "code",
   "execution_count": null,
   "metadata": {
    "dotnet_interactive": {
     "language": "pwsh"
    },
    "polyglot_notebook": {
     "kernelName": "pwsh"
    },
    "vscode": {
     "languageId": "polyglot-notebook"
    }
   },
   "outputs": [],
   "source": [
    "$a = @()\n",
    "Measure-Command {\n",
    "\t1..10000 | Foreach-Object { $a += $_ }\n",
    "} | Select-Object -ExpandProperty TotalMilliseconds"
   ]
  },
  {
   "cell_type": "code",
   "execution_count": null,
   "metadata": {
    "dotnet_interactive": {
     "language": "pwsh"
    },
    "polyglot_notebook": {
     "kernelName": "pwsh"
    },
    "vscode": {
     "languageId": "polyglot-notebook"
    }
   },
   "outputs": [],
   "source": [
    "# append with for() loop\n",
    "$a = @()\n",
    "Measure-Command {\n",
    "\tfor ($i = 0; $i -lt 10000; $i++) {\n",
    "\t\t$a += $i\n",
    "\t}\n",
    "} | Select-Object -ExpandProperty TotalMilliseconds"
   ]
  },
  {
   "cell_type": "markdown",
   "metadata": {},
   "source": [
    "Compare appending an ArrayList, Generic List and Array"
   ]
  },
  {
   "cell_type": "code",
   "execution_count": null,
   "metadata": {
    "dotnet_interactive": {
     "language": "pwsh"
    },
    "polyglot_notebook": {
     "kernelName": "pwsh"
    },
    "vscode": {
     "languageId": "polyglot-notebook"
    }
   },
   "outputs": [],
   "source": [
    "# arraylist\n",
    "using namespace System.Collections\n",
    "using namespace System.Collections.Generic\n",
    "using namespace System.Collections.Concurrent\n",
    "\n",
    "$a = [ArrayList]::new()\n",
    "\n",
    "Measure-Command {\n",
    "\tfor ($i = 0; $i -lt 100000; $i++) {\n",
    "\t\t[void]$a.Add($i)\n",
    "\t}\n",
    "} | Select-Object -ExpandProperty TotalMilliseconds"
   ]
  },
  {
   "cell_type": "code",
   "execution_count": null,
   "metadata": {
    "dotnet_interactive": {
     "language": "pwsh"
    },
    "polyglot_notebook": {
     "kernelName": "pwsh"
    },
    "vscode": {
     "languageId": "polyglot-notebook"
    }
   },
   "outputs": [],
   "source": [
    "# generic list\n",
    "using namespace System.Collections\n",
    "using namespace System.Collections.Generic\n",
    "using namespace System.Collections.Concurrent\n",
    "\n",
    "$a = [List[int]]::new()\n",
    "Measure-Command {\n",
    "\tfor ($i = 0; $i -lt 100000; $i++) {\n",
    "\t\t$a.Add($i)\n",
    "\t}\n",
    "} | Select-Object -ExpandProperty TotalMilliseconds"
   ]
  },
  {
   "cell_type": "markdown",
   "metadata": {},
   "source": [
    "### Search for Values"
   ]
  },
  {
   "cell_type": "markdown",
   "metadata": {},
   "source": [
    "Search a Generic List"
   ]
  },
  {
   "cell_type": "code",
   "execution_count": null,
   "metadata": {
    "dotnet_interactive": {
     "language": "pwsh"
    },
    "polyglot_notebook": {
     "kernelName": "pwsh"
    },
    "vscode": {
     "languageId": "polyglot-notebook"
    }
   },
   "outputs": [],
   "source": [
    "using namespace System.Collections\n",
    "using namespace System.Collections.Generic\n",
    "using namespace System.Collections.Concurrent\n",
    "\n",
    "$a = [ArrayList]::new()\n",
    "for ($i = 0; $i -lt 100000; $i++) { [void]$a.Add($i) }\n",
    "\n",
    "Measure-Command { \n",
    "\t$a.Contains(10000)\n",
    "} | Select-Object -ExpandProperty TotalMilliseconds"
   ]
  },
  {
   "cell_type": "code",
   "execution_count": null,
   "metadata": {
    "dotnet_interactive": {
     "language": "pwsh"
    },
    "polyglot_notebook": {
     "kernelName": "pwsh"
    },
    "vscode": {
     "languageId": "polyglot-notebook"
    }
   },
   "outputs": [],
   "source": [
    "using namespace System.Collections\n",
    "using namespace System.Collections.Generic\n",
    "using namespace System.Collections.Concurrent\n",
    "\n",
    "$a = [List[int]]::new()\n",
    "for ($i = 0; $i -lt 100000; $i++) { [void]$a.Add($i) }\n",
    "\n",
    "Measure-Command {\n",
    "\t$a.Contains(10000)\n",
    "} | Select-Object -ExpandProperty TotalMilliseconds"
   ]
  },
  {
   "cell_type": "markdown",
   "metadata": {},
   "source": [
    "### Joining Arrays"
   ]
  },
  {
   "cell_type": "code",
   "execution_count": null,
   "metadata": {
    "dotnet_interactive": {
     "language": "pwsh"
    },
    "polyglot_notebook": {
     "kernelName": "pwsh"
    },
    "vscode": {
     "languageId": "polyglot-notebook"
    }
   },
   "outputs": [],
   "source": [
    "# prep standard arrays\n",
    "\n",
    "$a1 = 1..10000 | ForEach-Object { $_ * 2 }\n",
    "$a2 = 1..10000 | ForEach-Object { ($_ * 2) + 1 }\n",
    "\n",
    "Measure-Command { \n",
    "\n",
    "\t$a3 = ($a1 + $a2) | Select-Object -Unique \n",
    "\n",
    "} | Select-Object -ExpandProperty TotalMilliseconds"
   ]
  },
  {
   "cell_type": "code",
   "execution_count": null,
   "metadata": {
    "dotnet_interactive": {
     "language": "pwsh"
    },
    "polyglot_notebook": {
     "kernelName": "pwsh"
    },
    "vscode": {
     "languageId": "polyglot-notebook"
    }
   },
   "outputs": [],
   "source": [
    "# prep HashSet objects\n",
    "\n",
    "using namespace System.Collections\n",
    "using namespace System.Collections.Generic\n",
    "using namespace System.Collections.Concurrent\n",
    "\n",
    "$a1 = [HashSet[int]]::new()\n",
    "$a2 = [HashSet[int]]::new()\n",
    "\n",
    "1..100000 | Foreach-Object {\n",
    "\t[void]$a1.Add($_ * 2)\n",
    "\t[void]$a2.Add(($_ * 2) + 1)\n",
    "}\n",
    "\n",
    "$a3 = [HashSet[int]]::new($a1)\n",
    "\n",
    "Measure-Command {\n",
    "\n",
    "\t$a3.UnionWith($a2)\n",
    "\n",
    "} | Select-Object -ExpandProperty TotalMilliseconds"
   ]
  },
  {
   "cell_type": "markdown",
   "metadata": {},
   "source": [
    "### Sorting"
   ]
  },
  {
   "cell_type": "code",
   "execution_count": null,
   "metadata": {
    "dotnet_interactive": {
     "language": "pwsh"
    },
    "polyglot_notebook": {
     "kernelName": "pwsh"
    },
    "vscode": {
     "languageId": "polyglot-notebook"
    }
   },
   "outputs": [],
   "source": [
    "$randoms = Get-Random -Count 100000\n",
    "\n",
    "Measure-Command { \n",
    "\t$randoms | Sort-Object\n",
    "} | Select-Object -ExpandProperty TotalMilliseconds"
   ]
  },
  {
   "cell_type": "markdown",
   "metadata": {},
   "source": [
    "Sorting with the Array fill inside the time measure"
   ]
  },
  {
   "cell_type": "code",
   "execution_count": null,
   "metadata": {
    "dotnet_interactive": {
     "language": "pwsh"
    },
    "polyglot_notebook": {
     "kernelName": "pwsh"
    },
    "vscode": {
     "languageId": "polyglot-notebook"
    }
   },
   "outputs": [],
   "source": [
    "using namespace System.Collections\n",
    "using namespace System.Collections.Generic\n",
    "using namespace System.Collections.Concurrent\n",
    "\n",
    "$randoms = Get-Random -Count 100000\n",
    "$list = [List[int]]::new()\n",
    "\n",
    "Measure-Command {\n",
    "\t$randoms | ForEach-Object { $list.Add($_) }\n",
    "\t$list.Sort()\n",
    "} | Select-Object -ExpandProperty TotalMilliseconds"
   ]
  },
  {
   "cell_type": "markdown",
   "metadata": {},
   "source": [
    "Sorting with the Array fill not included in the time measure"
   ]
  },
  {
   "cell_type": "code",
   "execution_count": null,
   "metadata": {
    "dotnet_interactive": {
     "language": "pwsh"
    },
    "polyglot_notebook": {
     "kernelName": "pwsh"
    },
    "vscode": {
     "languageId": "polyglot-notebook"
    }
   },
   "outputs": [],
   "source": [
    "using namespace System.Collections\n",
    "using namespace System.Collections.Generic\n",
    "using namespace System.Collections.Concurrent\n",
    "\n",
    "$randoms = Get-Random -Count 100000\n",
    "$list = [List[int]]::new()\n",
    "$randoms | ForEach-Object { $list.Add($_) }\n",
    "\n",
    "Measure-Command {\n",
    "\t$list.Sort()\n",
    "} | Select-Object -ExpandProperty TotalMilliseconds"
   ]
  }
 ],
 "metadata": {
  "language_info": {
   "name": "csharp"
  },
  "orig_nbformat": 4
 },
 "nbformat": 4,
 "nbformat_minor": 2
}
