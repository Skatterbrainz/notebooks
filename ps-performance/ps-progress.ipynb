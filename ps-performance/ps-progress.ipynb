{
 "cells": [
  {
   "attachments": {},
   "cell_type": "markdown",
   "metadata": {},
   "source": [
    "# PowerShell: Displaying Execution Progress"
   ]
  },
  {
   "attachments": {},
   "cell_type": "markdown",
   "metadata": {},
   "source": [
    "Sometimes you may want to display an interactive progress indication to the users of your script. There are many ways to do this, including the built-in Write-Progress function. However, there are performance trade-offs to consider. Much of this will depend on the volume of data or duration of processing your script will incur. The more processing time, the more impact on performance. Adding even a small amount of overhead will add up and slow the overall completion time. But sometimes that isn't a concern. Still, it's good to be aware of the impact."
   ]
  },
  {
   "cell_type": "markdown",
   "metadata": {},
   "source": [
    "### Write-Progress"
   ]
  },
  {
   "attachments": {},
   "cell_type": "markdown",
   "metadata": {},
   "source": [
    "Write-Progress uses multiple parameters to crunch into a display output. This includes the minimum parameters:\n",
    "* Activity - the high-level operation description, like \"Creating User Accounts\"\n",
    "* Status  - the specific task being processed, like \"User: John.Doe\"\n",
    "* PercentComplete - a whole-number (0 to 100) indicating current completion state"
   ]
  },
  {
   "attachments": {},
   "cell_type": "markdown",
   "metadata": {},
   "source": [
    "Tip: The examples below might work best if you copy/paste each into a PowerShell console to run."
   ]
  },
  {
   "cell_type": "code",
   "execution_count": null,
   "metadata": {
    "dotnet_interactive": {
     "language": "pwsh"
    },
    "polyglot_notebook": {
     "kernelName": "pwsh"
    },
    "vscode": {
     "languageId": "polyglot-notebook"
    }
   },
   "outputs": [],
   "source": [
    "$total = 10000\n",
    "for ($i = 0; $i -lt $total; $i++) {\n",
    "\tWrite-Progress -Activity \"Crunching $total numbers\" -Status \"Number $i of $total\" -PercentComplete (($i / $total) * 100)\n",
    "}\n",
    "Write-Progress -Activity \"Crunching $total numbers\" -Completed # closes the progress indicator when finished"
   ]
  },
  {
   "cell_type": "code",
   "execution_count": null,
   "metadata": {
    "dotnet_interactive": {
     "language": "pwsh"
    },
    "polyglot_notebook": {
     "kernelName": "pwsh"
    },
    "vscode": {
     "languageId": "polyglot-notebook"
    }
   },
   "outputs": [],
   "source": [
    "Measure-Command {\n",
    "\t$total = 10000\n",
    "\tfor ($i = 0; $i -lt $total; $i++) {\n",
    "\t\tWrite-Progress -Activity \"Processing $total items\" -Status \"Item $i of $total\" -PercentComplete (($i / $total) * 100)\n",
    "\t}\n",
    "} | Select-Object -ExpandProperty TotalMilliseconds"
   ]
  },
  {
   "cell_type": "markdown",
   "metadata": {},
   "source": [
    "### Write-Host"
   ]
  },
  {
   "cell_type": "code",
   "execution_count": null,
   "metadata": {
    "dotnet_interactive": {
     "language": "pwsh"
    },
    "polyglot_notebook": {
     "kernelName": "pwsh"
    },
    "vscode": {
     "languageId": "polyglot-notebook"
    }
   },
   "outputs": [],
   "source": [
    "Measure-Command {\n",
    "\t$total = 1000\n",
    "\tfor ($i = 0; $i -lt $total; $i++) {\n",
    "\t\t#Clear-Host\n",
    "\t\tWrite-Host \"Processing $i of $total items\"\n",
    "\t}\n",
    "} | Select-Object -ExpandProperty TotalMilliseconds"
   ]
  },
  {
   "attachments": {},
   "cell_type": "markdown",
   "metadata": {},
   "source": [
    "### Write-Verbose"
   ]
  },
  {
   "attachments": {},
   "cell_type": "markdown",
   "metadata": {},
   "source": [
    "Write-Verbose is preferred over Write-Host if you don't need (or want) to display output to the user _by default_. "
   ]
  },
  {
   "cell_type": "code",
   "execution_count": null,
   "metadata": {
    "dotnet_interactive": {
     "language": "pwsh"
    },
    "polyglot_notebook": {
     "kernelName": "pwsh"
    },
    "vscode": {
     "languageId": "polyglot-notebook"
    }
   },
   "outputs": [],
   "source": [
    "[CmdletBinding()]\n",
    "param()\n",
    "\n",
    "Measure-Command {\n",
    "\t$total = 1000\n",
    "\tfor ($i = 0; $i -lt $total; $i++) {\n",
    "\t\tWrite-Verbose \"Processing $i of $total items\"\n",
    "\t}\n",
    "} | Select-Object -ExpandProperty TotalMilliseconds"
   ]
  },
  {
   "cell_type": "code",
   "execution_count": null,
   "metadata": {
    "dotnet_interactive": {
     "language": "pwsh"
    },
    "polyglot_notebook": {
     "kernelName": "pwsh"
    },
    "vscode": {
     "languageId": "polyglot-notebook"
    }
   },
   "outputs": [],
   "source": [
    "[CmdletBinding()]\n",
    "param()\n",
    "\n",
    "Measure-Command {\n",
    "\t$total = 1000\n",
    "\tfor ($i = 0; $i -lt $total; $i++) {\n",
    "\t\tWrite-Verbose \"Processing $i of $total items\" -Verbose:$True\n",
    "\t}\n",
    "} | Select-Object -ExpandProperty TotalMilliseconds"
   ]
  },
  {
   "cell_type": "markdown",
   "metadata": {},
   "source": [
    "### No Output"
   ]
  },
  {
   "attachments": {},
   "cell_type": "markdown",
   "metadata": {},
   "source": [
    "For comparison only, the following example runs the same number of iterations without any status output."
   ]
  },
  {
   "cell_type": "code",
   "execution_count": null,
   "metadata": {
    "dotnet_interactive": {
     "language": "pwsh"
    },
    "polyglot_notebook": {
     "kernelName": "pwsh"
    },
    "vscode": {
     "languageId": "polyglot-notebook"
    }
   },
   "outputs": [],
   "source": [
    "Measure-Command {\n",
    "\t$total = 1000\n",
    "\tfor ($i = 0; $i -lt $total; $i++) {\n",
    "\t\t$null = \"Processing $i of $total items\"\n",
    "\t}\n",
    "} | Select-Object -ExpandProperty TotalMilliseconds"
   ]
  }
 ],
 "metadata": {
  "language_info": {
   "name": "csharp"
  },
  "orig_nbformat": 4
 },
 "nbformat": 4,
 "nbformat_minor": 2
}
