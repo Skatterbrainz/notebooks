{
 "cells": [
  {
   "attachments": {},
   "cell_type": "markdown",
   "metadata": {},
   "source": [
    "# PowerShell: Environment Variables"
   ]
  },
  {
   "cell_type": "markdown",
   "metadata": {},
   "source": [
    "### Computer Name"
   ]
  },
  {
   "cell_type": "code",
   "execution_count": null,
   "metadata": {
    "dotnet_interactive": {
     "language": "pwsh"
    },
    "polyglot_notebook": {
     "kernelName": "pwsh"
    },
    "vscode": {
     "languageId": "polyglot-notebook"
    }
   },
   "outputs": [],
   "source": [
    "Measure-Command {\n",
    "\tfor ($i = 0; $i -lt 10000; $i++) {\n",
    "\t\t$null = $env:COMPUTERNAME\n",
    "\t}\n",
    "} | Select-Object -ExpandProperty TotalMilliseconds"
   ]
  },
  {
   "cell_type": "code",
   "execution_count": null,
   "metadata": {
    "dotnet_interactive": {
     "language": "pwsh"
    },
    "polyglot_notebook": {
     "kernelName": "pwsh"
    },
    "vscode": {
     "languageId": "polyglot-notebook"
    }
   },
   "outputs": [],
   "source": [
    "Measure-Command {\n",
    "\tfor ($i = 0; $i -lt 10000; $i++) {\n",
    "\t\t$null = [System.Environment]::MachineName\n",
    "\t}\n",
    "} | Select-Object -ExpandProperty TotalMilliseconds"
   ]
  },
  {
   "cell_type": "code",
   "execution_count": 1,
   "metadata": {
    "dotnet_interactive": {
     "language": "pwsh"
    },
    "polyglot_notebook": {
     "kernelName": "pwsh"
    },
    "vscode": {
     "languageId": "polyglot-notebook"
    }
   },
   "outputs": [
    {
     "name": "stdout",
     "output_type": "stream",
     "text": [
      "15622.5462\r\n"
     ]
    }
   ],
   "source": [
    "Measure-Command {\n",
    "\tfor ($i = 0; $i -lt 10000; $i++) {\n",
    "\t\t$shell = New-Object -ComObject 'Wscript.Shell'\n",
    "\t\t$null = $shell.ExpandEnvironmentStrings('%COMPUTERNAME%')\n",
    "\t}\n",
    "} | Select-Object -ExpandProperty TotalMilliseconds"
   ]
  },
  {
   "cell_type": "code",
   "execution_count": 2,
   "metadata": {
    "dotnet_interactive": {
     "language": "pwsh"
    },
    "polyglot_notebook": {
     "kernelName": "pwsh"
    },
    "vscode": {
     "languageId": "polyglot-notebook"
    }
   },
   "outputs": [
    {
     "name": "stdout",
     "output_type": "stream",
     "text": [
      "15574.3394\r\n"
     ]
    }
   ],
   "source": [
    "Measure-Command {\n",
    "\tfor ($i = 0; $i -lt 10000; $i++) {\n",
    "\t\t$net = New-Object -ComObject 'Wscript.Network'\n",
    "\t\t$net.ComputerName\n",
    "\t}\n",
    "} | Select-Object -ExpandProperty TotalMilliseconds"
   ]
  },
  {
   "cell_type": "code",
   "execution_count": 3,
   "metadata": {
    "dotnet_interactive": {
     "language": "pwsh"
    },
    "polyglot_notebook": {
     "kernelName": "pwsh"
    },
    "vscode": {
     "languageId": "polyglot-notebook"
    }
   },
   "outputs": [
    {
     "name": "stdout",
     "output_type": "stream",
     "text": [
      "25566.3653\r\n"
     ]
    }
   ],
   "source": [
    "Measure-Command {\n",
    "\tfor ($i = 0; $i -lt 10000; $i++) {\n",
    "\t\t$sys = New-Object -ComObject 'ADSystemInfo'\n",
    "\t\t$sys.ComputerName\n",
    "\t}\n",
    "} | Select-Object -ExpandProperty TotalMilliseconds"
   ]
  },
  {
   "cell_type": "markdown",
   "metadata": {},
   "source": [
    "### UserName"
   ]
  },
  {
   "cell_type": "code",
   "execution_count": 7,
   "metadata": {
    "dotnet_interactive": {
     "language": "pwsh"
    },
    "polyglot_notebook": {
     "kernelName": "pwsh"
    },
    "vscode": {
     "languageId": "polyglot-notebook"
    }
   },
   "outputs": [
    {
     "name": "stdout",
     "output_type": "stream",
     "text": [
      "79.5099\r\n"
     ]
    }
   ],
   "source": [
    "Measure-Command {\n",
    "\tfor ($i = 0; $i -lt 10000; $i++) {\n",
    "\t\t$x = $env:USERNAME\n",
    "\t}\n",
    "} | Select-Object -ExpandProperty TotalMilliseconds"
   ]
  },
  {
   "cell_type": "code",
   "execution_count": 11,
   "metadata": {
    "dotnet_interactive": {
     "language": "pwsh"
    },
    "polyglot_notebook": {
     "kernelName": "pwsh"
    },
    "vscode": {
     "languageId": "polyglot-notebook"
    }
   },
   "outputs": [
    {
     "name": "stdout",
     "output_type": "stream",
     "text": [
      "2732.1059\r\n"
     ]
    }
   ],
   "source": [
    "Measure-Command {\n",
    "\tfor ($i = 0; $i -lt 10000; $i++) {\n",
    "\t\t$x = [System.Environment]::UserName\n",
    "\t}\n",
    "} | Select-Object -ExpandProperty TotalMilliseconds"
   ]
  }
 ],
 "metadata": {
  "language_info": {
   "name": "csharp"
  },
  "orig_nbformat": 4
 },
 "nbformat": 4,
 "nbformat_minor": 2
}
