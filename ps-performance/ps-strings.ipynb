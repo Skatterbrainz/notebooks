{
 "cells": [
  {
   "attachments": {},
   "cell_type": "markdown",
   "metadata": {},
   "source": [
    "# PowerShell: Strings and String Manipulation"
   ]
  },
  {
   "cell_type": "markdown",
   "metadata": {},
   "source": [
    "### String Arrays"
   ]
  },
  {
   "cell_type": "code",
   "execution_count": null,
   "metadata": {
    "dotnet_interactive": {
     "language": "pwsh"
    },
    "polyglot_notebook": {
     "kernelName": "pwsh"
    },
    "vscode": {
     "languageId": "polyglot-notebook"
    }
   },
   "outputs": [],
   "source": [
    "$string = \"a,b,c,d,e,f,g\"\n",
    "\n",
    "Measure-Command {\n",
    "\tfor ($i=0; $i -lt 10000; $i++) {\n",
    "\t\t$char = $string.Split(',')[3]\n",
    "\t}\n",
    "} | Select-Object -ExpandProperty TotalMilliseconds"
   ]
  },
  {
   "cell_type": "code",
   "execution_count": null,
   "metadata": {
    "dotnet_interactive": {
     "language": "pwsh"
    },
    "polyglot_notebook": {
     "kernelName": "pwsh"
    },
    "vscode": {
     "languageId": "polyglot-notebook"
    }
   },
   "outputs": [],
   "source": [
    "$stringArray = (\"a\",\"b\",\"c\",\"d\",\"e\",\"f\",\"g\")\n",
    "\n",
    "Measure-Command {\n",
    "\tfor ($i=0; $i -lt 10000; $i++) {\n",
    "\t\t$char = $stringArray[3]\n",
    "\t}\n",
    "} | Select-Object -ExpandProperty TotalMilliseconds"
   ]
  },
  {
   "cell_type": "markdown",
   "metadata": {},
   "source": [
    "Example 1 defines a string, which is parsed into an array each time through the for-loop. Example 2 defines the array"
   ]
  },
  {
   "cell_type": "markdown",
   "metadata": {},
   "source": [
    "### Empty Strings"
   ]
  },
  {
   "cell_type": "code",
   "execution_count": null,
   "metadata": {
    "dotnet_interactive": {
     "language": "pwsh"
    },
    "polyglot_notebook": {
     "kernelName": "pwsh"
    },
    "vscode": {
     "languageId": "polyglot-notebook"
    }
   },
   "outputs": [],
   "source": [
    "$test = @(\"\", \" \", \"`t\", $null, \"  \")\n",
    "Measure-Command {\n",
    "\t$res = $False\n",
    "\t1..10000 | Foreach-Object {\n",
    "\t\t$out = @()\n",
    "\t\tforeach ($item in $test) {\n",
    "\t\t\t$out += ([string]::IsNullOrEmpty($item))\n",
    "\t\t}\n",
    "\t}\n",
    "} | Select-Object -ExpandProperty TotalMilliseconds\n",
    "Write-Output $out"
   ]
  },
  {
   "cell_type": "code",
   "execution_count": null,
   "metadata": {
    "dotnet_interactive": {
     "language": "pwsh"
    },
    "polyglot_notebook": {
     "kernelName": "pwsh"
    },
    "vscode": {
     "languageId": "polyglot-notebook"
    }
   },
   "outputs": [],
   "source": [
    "$test = @(\"\", \" \", \"`t\", $null, \"  \")\n",
    "Measure-Command {\n",
    "\t$res = $False\n",
    "\t1..10000 | Foreach-Object {\n",
    "\t\t$out = @()\n",
    "\t\tforeach ($item in $test) {\n",
    "\t\t\t$out += ([string]::IsNullOrWhiteSpace($item))\n",
    "\t\t}\n",
    "\t}\n",
    "} | Select-Object -ExpandProperty TotalMilliseconds\n",
    "Write-Output $out"
   ]
  },
  {
   "cell_type": "markdown",
   "metadata": {},
   "source": [
    "### Concatenation"
   ]
  },
  {
   "cell_type": "code",
   "execution_count": null,
   "metadata": {
    "dotnet_interactive": {
     "language": "pwsh"
    },
    "polyglot_notebook": {
     "kernelName": "pwsh"
    },
    "vscode": {
     "languageId": "polyglot-notebook"
    }
   },
   "outputs": [],
   "source": [
    "$string1 = \"Base\"\n",
    "$string2 = \"NewText\"\n",
    "\n",
    "Measure-Command {\n",
    "\tfor ($i=0; $i -lt 10000; $i++) {\n",
    "\t\t\"$($string1) $($string2)\"\n",
    "\t}\n",
    "} | Select-Object -ExpandProperty TotalMilliseconds"
   ]
  },
  {
   "cell_type": "code",
   "execution_count": null,
   "metadata": {
    "dotnet_interactive": {
     "language": "pwsh"
    },
    "polyglot_notebook": {
     "kernelName": "pwsh"
    },
    "vscode": {
     "languageId": "polyglot-notebook"
    }
   },
   "outputs": [],
   "source": [
    "$strings = @(\"apple\",\"banana\",\"cherry\")\n",
    "\n",
    "Measure-Command {\n",
    "\tfor ($i=0; $i -lt 10000; $i++) {\n",
    "\t\t$x = $strings -join \"\"\n",
    "\t}\n",
    "} | Select-Object -ExpandProperty TotalMilliseconds"
   ]
  },
  {
   "cell_type": "code",
   "execution_count": null,
   "metadata": {
    "dotnet_interactive": {
     "language": "pwsh"
    },
    "polyglot_notebook": {
     "kernelName": "pwsh"
    },
    "vscode": {
     "languageId": "polyglot-notebook"
    }
   },
   "outputs": [],
   "source": [
    "$strings = @(\"apple\",\"banana\",\"cherry\")\n",
    "\n",
    "Measure-Command {\n",
    "\tfor ($i=0; $i -lt 10000; $i++) {\n",
    "\t\t$x = [system.string]::Concat($strings)\n",
    "\t}\n",
    "} | Select-Object -ExpandProperty TotalMilliseconds"
   ]
  },
  {
   "cell_type": "markdown",
   "metadata": {},
   "source": [
    "### Padding"
   ]
  },
  {
   "cell_type": "code",
   "execution_count": null,
   "metadata": {
    "dotnet_interactive": {
     "language": "pwsh"
    },
    "polyglot_notebook": {
     "kernelName": "pwsh"
    },
    "vscode": {
     "languageId": "polyglot-notebook"
    }
   },
   "outputs": [],
   "source": [
    "$string = \"Base\"\n",
    "\n",
    "Measure-Command {\n",
    "\tfor ($i=0; $i -lt 10000; $i++) {\n",
    "\t\twhile ($string.Length -le 18) {\n",
    "\t\t\t$string += 'x'\n",
    "\t\t}\n",
    "\t}\n",
    "} | Select-Object -ExpandProperty TotalMilliseconds"
   ]
  },
  {
   "cell_type": "code",
   "execution_count": null,
   "metadata": {
    "dotnet_interactive": {
     "language": "pwsh"
    },
    "polyglot_notebook": {
     "kernelName": "pwsh"
    },
    "vscode": {
     "languageId": "polyglot-notebook"
    }
   },
   "outputs": [],
   "source": [
    "$string = \"Base\"\n",
    "\n",
    "Measure-Command {\n",
    "\tfor ($i=0; $i -lt 10000; $i++) {\n",
    "\t\t$string.PadRight(18,'x')\n",
    "\t}\n",
    "} | Select-Object -ExpandProperty TotalMilliseconds"
   ]
  },
  {
   "cell_type": "markdown",
   "metadata": {},
   "source": [
    "### Pattern Matches"
   ]
  },
  {
   "cell_type": "code",
   "execution_count": null,
   "metadata": {
    "dotnet_interactive": {
     "language": "pwsh"
    },
    "polyglot_notebook": {
     "kernelName": "pwsh"
    },
    "vscode": {
     "languageId": "polyglot-notebook"
    }
   },
   "outputs": [],
   "source": [
    "$text = \"I'm looking for SEC- in this string\""
   ]
  },
  {
   "cell_type": "code",
   "execution_count": null,
   "metadata": {
    "dotnet_interactive": {
     "language": "pwsh"
    },
    "polyglot_notebook": {
     "kernelName": "pwsh"
    },
    "vscode": {
     "languageId": "polyglot-notebook"
    }
   },
   "outputs": [],
   "source": [
    "# Using IndexOf()\n",
    "\n",
    "Measure-Command {\n",
    "\tfor ($i=0; $i -lt 10000; $i++) {\n",
    "\t\t$null = ($text.IndexOf('SEC-') -gt 0)\n",
    "\t}\n",
    "} | Select-Object -ExpandProperty TotalMilliseconds"
   ]
  },
  {
   "cell_type": "code",
   "execution_count": null,
   "metadata": {
    "dotnet_interactive": {
     "language": "pwsh"
    },
    "polyglot_notebook": {
     "kernelName": "pwsh"
    },
    "vscode": {
     "languageId": "polyglot-notebook"
    }
   },
   "outputs": [],
   "source": [
    "# Using Match Anywhere in String\n",
    "\n",
    "Measure-Command {\n",
    "\tfor ($i=0; $i -lt 10000; $i++) {\n",
    "\t\t$null = ($text -match 'SEC-')\n",
    "\t}\n",
    "} | Select-Object -ExpandProperty TotalMilliseconds"
   ]
  },
  {
   "cell_type": "code",
   "execution_count": null,
   "metadata": {
    "dotnet_interactive": {
     "language": "pwsh"
    },
    "polyglot_notebook": {
     "kernelName": "pwsh"
    },
    "vscode": {
     "languageId": "polyglot-notebook"
    }
   },
   "outputs": [],
   "source": [
    "# Using Match for End of String\n",
    "\n",
    "Measure-Command {\n",
    "\tfor ($i=0; $i -lt 10000; $i++) {\n",
    "\t\t$null = ($text -match '^SEC-')\n",
    "\t}\n",
    "} | Select-Object -ExpandProperty TotalMilliseconds"
   ]
  },
  {
   "cell_type": "code",
   "execution_count": null,
   "metadata": {
    "dotnet_interactive": {
     "language": "pwsh"
    },
    "polyglot_notebook": {
     "kernelName": "pwsh"
    },
    "vscode": {
     "languageId": "polyglot-notebook"
    }
   },
   "outputs": [],
   "source": [
    "# Using Match for Middle of String\n",
    "\n",
    "Measure-Command {\n",
    "\tfor ($i=0; $i -lt 10000; $i++) {\n",
    "\t\t$null = ($text -like '*SEC-*')\n",
    "\t}\n",
    "} | Select-Object -ExpandProperty TotalMilliseconds"
   ]
  },
  {
   "cell_type": "markdown",
   "metadata": {},
   "source": [
    "### Arrays vs. String Split"
   ]
  },
  {
   "cell_type": "code",
   "execution_count": null,
   "metadata": {
    "dotnet_interactive": {
     "language": "pwsh"
    },
    "polyglot_notebook": {
     "kernelName": "pwsh"
    },
    "vscode": {
     "languageId": "polyglot-notebook"
    }
   },
   "outputs": [],
   "source": [
    "$string1 = \"One,Two,Alpha,Beta,Primary,Secondary\"\n",
    "$string2 = (\"One\",\"Two\",\"Alpha\",\"Beta\",\"Primary\",\"Secondary\")"
   ]
  },
  {
   "cell_type": "code",
   "execution_count": null,
   "metadata": {
    "dotnet_interactive": {
     "language": "pwsh"
    },
    "polyglot_notebook": {
     "kernelName": "pwsh"
    },
    "vscode": {
     "languageId": "polyglot-notebook"
    }
   },
   "outputs": [],
   "source": [
    "# Using Split() Method\n",
    "\n",
    "Measure-Command {\n",
    "\tfor ($i = 0; $i -lt 10000; $i++) {\n",
    "\t\tif (\"Beta\" -in $string1.Split(',')) { $found = $true }\n",
    "\t}\n",
    "} | Select-Object -ExpandProperty TotalMilliseconds"
   ]
  },
  {
   "cell_type": "code",
   "execution_count": null,
   "metadata": {
    "dotnet_interactive": {
     "language": "pwsh"
    },
    "polyglot_notebook": {
     "kernelName": "pwsh"
    },
    "vscode": {
     "languageId": "polyglot-notebook"
    }
   },
   "outputs": [],
   "source": [
    "# Using Split operator\n",
    "\n",
    "Measure-Command {\n",
    "\tfor ($i = 0; $i -lt 10000; $i++) {\n",
    "\t\tif (\"Beta\" -in $($string1 -split ',')) { $found = $true }\n",
    "\t}\n",
    "} | Select-Object -ExpandProperty TotalMilliseconds"
   ]
  },
  {
   "cell_type": "code",
   "execution_count": null,
   "metadata": {
    "dotnet_interactive": {
     "language": "pwsh"
    },
    "polyglot_notebook": {
     "kernelName": "pwsh"
    },
    "vscode": {
     "languageId": "polyglot-notebook"
    }
   },
   "outputs": [],
   "source": [
    "# Searching Array elements using -in operator\n",
    "\n",
    "Measure-Command {\n",
    "\tfor ($i = 0; $i -lt 10000; $i++) {\n",
    "\t\tif (\"Beta\" -in $string2) { $found = $true }\n",
    "\t}\n",
    "} | Select-Object -ExpandProperty TotalMilliseconds"
   ]
  },
  {
   "cell_type": "code",
   "execution_count": null,
   "metadata": {
    "dotnet_interactive": {
     "language": "pwsh"
    },
    "polyglot_notebook": {
     "kernelName": "pwsh"
    },
    "vscode": {
     "languageId": "polyglot-notebook"
    }
   },
   "outputs": [],
   "source": [
    "# Searching Array elements using -contains operator\n",
    "# Using for() loop\n",
    "\n",
    "Measure-Command {\n",
    "\tfor ($i = 0; $i -lt 10000; $i++) {\n",
    "\t\tif ($string2 -contains \"Beta\") { $found = $true }\n",
    "\t}\n",
    "} | Select-Object -ExpandProperty TotalMilliseconds"
   ]
  },
  {
   "cell_type": "code",
   "execution_count": null,
   "metadata": {
    "dotnet_interactive": {
     "language": "pwsh"
    },
    "polyglot_notebook": {
     "kernelName": "pwsh"
    },
    "vscode": {
     "languageId": "polyglot-notebook"
    }
   },
   "outputs": [],
   "source": [
    "# Searching Array elements using -contains operator\n",
    "# Using Foreach-Object pipeline\n",
    "\n",
    "Measure-Command {\n",
    "\t(1..10000) | Foreach-Object {\n",
    "\t\tif ( $string2 -contains \"Beta\") { $found = $true }\n",
    "\t}\n",
    "} | Select-Object -ExpandProperty TotalMilliseconds"
   ]
  },
  {
   "cell_type": "markdown",
   "metadata": {},
   "source": [
    "### Replace vs Interpolate"
   ]
  },
  {
   "cell_type": "code",
   "execution_count": null,
   "metadata": {
    "dotnet_interactive": {
     "language": "pwsh"
    },
    "polyglot_notebook": {
     "kernelName": "pwsh"
    },
    "vscode": {
     "languageId": "polyglot-notebook"
    }
   },
   "outputs": [],
   "source": [
    "Measure-Command {\n",
    "\t(1..10000) | Foreach-Object {\n",
    "\t\t$(\"The capital of STATE is CITY\").Replace(\"STATE\",\"Virginia\").Replace(\"CITY\",\"Richmond\")\n",
    "\t}\n",
    "} | Select-Object -ExpandProperty TotalMilliseconds"
   ]
  },
  {
   "cell_type": "code",
   "execution_count": null,
   "metadata": {
    "dotnet_interactive": {
     "language": "pwsh"
    },
    "polyglot_notebook": {
     "kernelName": "pwsh"
    },
    "vscode": {
     "languageId": "polyglot-notebook"
    }
   },
   "outputs": [],
   "source": [
    "Measure-Command {\n",
    "\t(1..10000) | Foreach-Object {\n",
    "\t\t\"The capital of {0} is {1}\" -f \"Virginia\",\"Richmond\"\n",
    "\t}\n",
    "} | Select-Object -ExpandProperty TotalMilliseconds"
   ]
  },
  {
   "cell_type": "markdown",
   "metadata": {},
   "source": [
    "### End"
   ]
  }
 ],
 "metadata": {
  "language_info": {
   "name": "csharp"
  },
  "orig_nbformat": 4
 },
 "nbformat": 4,
 "nbformat_minor": 2
}
