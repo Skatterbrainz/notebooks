{
 "cells": [
  {
   "attachments": {},
   "cell_type": "markdown",
   "metadata": {},
   "source": [
    "# PowerShell: Condition Evaluation"
   ]
  },
  {
   "attachments": {},
   "cell_type": "markdown",
   "metadata": {},
   "source": [
    "### If / Else"
   ]
  },
  {
   "cell_type": "code",
   "execution_count": null,
   "metadata": {
    "dotnet_interactive": {
     "language": "pwsh"
    },
    "polyglot_notebook": {
     "kernelName": "pwsh"
    },
    "vscode": {
     "languageId": "polyglot-notebook"
    }
   },
   "outputs": [],
   "source": [
    "[hashtable]$obj = @{FN = 'David'; LN = 'Stein'; Dept = 'Consulting'}\n",
    "\n",
    "Measure-Command {\n",
    "\tfor ($i = 0; $i -lt 10000; $i++) {\n",
    "\t\tif ($obj.FN -like 'John*' -and $obj.Dept -eq 'Marketing') {\n",
    "\t\t\t$x = 1\n",
    "\t\t} elseif ($obj.FN -like 'Beth*' -or $obj.Dept -eq 'Support') {\n",
    "\t\t\t$x = 2\n",
    "\t\t} elseif ($obj.FN -like 'Dav*' -and $obj.Dept -eq 'Consulting') {\n",
    "\t\t\t$x = 3\n",
    "\t\t} else {\n",
    "\t\t\t$x = 4\n",
    "\t\t}\n",
    "\t}\n",
    "} | Select-Object -ExpandProperty TotalMilliseconds"
   ]
  },
  {
   "attachments": {},
   "cell_type": "markdown",
   "metadata": {},
   "source": [
    "### Switch"
   ]
  },
  {
   "cell_type": "code",
   "execution_count": null,
   "metadata": {
    "dotnet_interactive": {
     "language": "csharp"
    },
    "polyglot_notebook": {
     "kernelName": "csharp"
    },
    "vscode": {
     "languageId": "polyglot-notebook"
    }
   },
   "outputs": [],
   "source": [
    "[hashtable]$obj = @{FN = 'David'; LN = 'Stein'; Dept = 'Consulting'}\n",
    "\n",
    "Measure-Command -Expression {\n",
    "\tfor ($i = 0; $i -lt 10000; $i++) {\n",
    "\t\tswitch ($obj) {\n",
    "\t\t\t{($obj.FN -like 'John*' -and $obj.Dept -eq 'Marketing')} { $x = 1 }\n",
    "\t\t\t{($obj.FN -like 'Beth*' -or $obj.Dept -eq 'Support')} { $x = 2 }\n",
    "\t\t\t{($obj.FN -like 'Dav*' -and $obj.Dept -eq 'Consulting')} { $x = 3 }\n",
    "\t\t\tdefault { $x = 4 }\n",
    "\t\t}\n",
    "\t}\n",
    "} | Select-Object -ExpandProperty TotalMilliseconds"
   ]
  }
 ],
 "metadata": {
  "language_info": {
   "name": "csharp"
  },
  "orig_nbformat": 4
 },
 "nbformat": 4,
 "nbformat_minor": 2
}
