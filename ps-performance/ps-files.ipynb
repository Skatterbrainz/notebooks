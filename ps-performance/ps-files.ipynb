{
 "cells": [
  {
   "attachments": {},
   "cell_type": "markdown",
   "metadata": {},
   "source": [
    "# Performance - File I/O"
   ]
  },
  {
   "attachments": {},
   "cell_type": "markdown",
   "metadata": {},
   "source": [
    "### Finding Files in a Folder"
   ]
  },
  {
   "cell_type": "code",
   "execution_count": null,
   "metadata": {
    "dotnet_interactive": {
     "language": "pwsh"
    },
    "polyglot_notebook": {
     "kernelName": "pwsh"
    },
    "vscode": {
     "languageId": "polyglot-notebook"
    }
   },
   "outputs": [],
   "source": [
    "Measure-Command {\n",
    "\tfor ($i = 0; $i -lt 1000; $i++) {\n",
    "\t\t$files = Get-ChildItem -Path c:\\git\\tech-notes\\memcm | Where-Object {$_.Name -like \"*.md\"}\n",
    "\t}\n",
    "} | Select-Object -ExpandProperty TotalMilliseconds"
   ]
  },
  {
   "cell_type": "code",
   "execution_count": null,
   "metadata": {
    "dotnet_interactive": {
     "language": "pwsh"
    },
    "polyglot_notebook": {
     "kernelName": "pwsh"
    },
    "vscode": {
     "languageId": "polyglot-notebook"
    }
   },
   "outputs": [],
   "source": [
    "Measure-Command {\n",
    "\tfor ($i = 0; $i -lt 1000; $i++) {\n",
    "\t\t$files = Get-ChildItem -Path c:\\git\\tech-notes\\memcm -Filter \"*.md\"\n",
    "\t}\n",
    "} | Select-Object -ExpandProperty TotalMilliseconds"
   ]
  },
  {
   "cell_type": "code",
   "execution_count": null,
   "metadata": {
    "dotnet_interactive": {
     "language": "pwsh"
    },
    "polyglot_notebook": {
     "kernelName": "pwsh"
    },
    "vscode": {
     "languageId": "polyglot-notebook"
    }
   },
   "outputs": [],
   "source": [
    "# SearchOption = \"TopDirectoryOnly\" or \"AllDirectories\"\n",
    "# GetFiles($path, $filter, $searchoption)\n",
    "# EnumerateFiles($path, $filter, $searchoption)\n",
    "Measure-Command {\n",
    "\tfor ($i = 0; $i -lt 1000; $i++) {\n",
    "\t\t$files = @([System.IO.Directory]::GetFiles(\"C:\\git\\tech-notes\\memcm\", \"*.md\",\"AllDirectories\"))\n",
    "\t}\n",
    "} | Select-Object -ExpandProperty TotalMilliseconds"
   ]
  },
  {
   "attachments": {},
   "cell_type": "markdown",
   "metadata": {},
   "source": [
    "### Prep"
   ]
  },
  {
   "cell_type": "code",
   "execution_count": null,
   "metadata": {
    "dotnet_interactive": {
     "language": "pwsh"
    },
    "polyglot_notebook": {
     "kernelName": "pwsh"
    },
    "vscode": {
     "languageId": "polyglot-notebook"
    }
   },
   "outputs": [],
   "source": [
    "# prepare a file for following examples...\n",
    "\n",
    "$filepath = New-TemporaryFile | Select-Object -ExpandProperty FullName\n",
    "\n",
    "if (Test-Path $filepath) {\n",
    "\tfor ($i = 0; $i -lt 5; $i++) {\n",
    "\t\tGet-Process | Out-File -FilePath $filepath -Append\n",
    "\t}\n",
    "\tWrite-Output \"Saved process data to $filepath\"\n",
    "} else {\n",
    "\tWrite-Output \"File not found: $filepath\"\n",
    "}"
   ]
  },
  {
   "attachments": {},
   "cell_type": "markdown",
   "metadata": {},
   "source": [
    "## Reading File Contents"
   ]
  },
  {
   "attachments": {},
   "cell_type": "markdown",
   "metadata": {},
   "source": [
    "### Get-Content"
   ]
  },
  {
   "cell_type": "code",
   "execution_count": null,
   "metadata": {
    "dotnet_interactive": {
     "language": "pwsh"
    },
    "polyglot_notebook": {
     "kernelName": "pwsh"
    },
    "vscode": {
     "languageId": "polyglot-notebook"
    }
   },
   "outputs": [],
   "source": [
    "Measure-Command {\n",
    "\tfor ($i = 0; $i -lt 1000; $i++) {\n",
    "\t\t[void](Get-Content -Path $filepath)\n",
    "\t}\n",
    "} | Select-Object -ExpandProperty TotalMilliseconds"
   ]
  },
  {
   "cell_type": "markdown",
   "metadata": {},
   "source": [
    "### Get-Content -Raw"
   ]
  },
  {
   "cell_type": "code",
   "execution_count": null,
   "metadata": {
    "dotnet_interactive": {
     "language": "pwsh"
    },
    "polyglot_notebook": {
     "kernelName": "pwsh"
    },
    "vscode": {
     "languageId": "polyglot-notebook"
    }
   },
   "outputs": [],
   "source": [
    "Measure-Command {\n",
    "\tfor ($i = 0; $i -lt 1000; $i++) {\n",
    "\t\t[void](Get-Content -Path $filepath -Raw)\n",
    "\t}\n",
    "} | Select-Object -ExpandProperty TotalMilliseconds"
   ]
  },
  {
   "attachments": {},
   "cell_type": "markdown",
   "metadata": {},
   "source": [
    "### StreamReader / ReadToEnd"
   ]
  },
  {
   "cell_type": "code",
   "execution_count": null,
   "metadata": {
    "dotnet_interactive": {
     "language": "pwsh"
    },
    "polyglot_notebook": {
     "kernelName": "pwsh"
    },
    "vscode": {
     "languageId": "polyglot-notebook"
    }
   },
   "outputs": [],
   "source": [
    "Measure-Command {\n",
    "\tfor ($i = 0; $i -lt 1000; $i++) {\n",
    "\t\t$file = [System.IO.StreamReader]::new($filepath)\n",
    "\t\t$contents = $file.ReadToEnd()\n",
    "\t\t$file.Close()\n",
    "\t}\n",
    "} | Select-Object -ExpandProperty TotalMilliseconds"
   ]
  }
 ],
 "metadata": {
  "language_info": {
   "name": "csharp"
  },
  "orig_nbformat": 4
 },
 "nbformat": 4,
 "nbformat_minor": 2
}
