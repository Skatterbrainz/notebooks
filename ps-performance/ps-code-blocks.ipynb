{
 "cells": [
  {
   "attachments": {},
   "cell_type": "markdown",
   "metadata": {},
   "source": [
    "# PowerShell: Suppressing Output"
   ]
  },
  {
   "cell_type": "code",
   "execution_count": null,
   "metadata": {
    "dotnet_interactive": {
     "language": "pwsh"
    },
    "polyglot_notebook": {
     "kernelName": "pwsh"
    },
    "vscode": {
     "languageId": "polyglot-notebook"
    }
   },
   "outputs": [],
   "source": [
    "Measure-Command {\n",
    "\tfor ($i=0; $i -lt 1000; $i++) {\n",
    "\t\t(Get-Date) | Out-Null\n",
    "\t}\n",
    "} | Select-Object -ExpandProperty TotalMilliseconds"
   ]
  },
  {
   "cell_type": "code",
   "execution_count": null,
   "metadata": {
    "dotnet_interactive": {
     "language": "pwsh"
    },
    "polyglot_notebook": {
     "kernelName": "pwsh"
    },
    "vscode": {
     "languageId": "polyglot-notebook"
    }
   },
   "outputs": [],
   "source": [
    "Measure-Command {\n",
    "\tfor ($i=0; $i -lt 1000; $i++) {\n",
    "\t\t[void](Get-Date)\n",
    "\t}\n",
    "} | Select-Object -ExpandProperty TotalMilliseconds"
   ]
  },
  {
   "cell_type": "code",
   "execution_count": null,
   "metadata": {
    "dotnet_interactive": {
     "language": "pwsh"
    },
    "polyglot_notebook": {
     "kernelName": "pwsh"
    },
    "vscode": {
     "languageId": "polyglot-notebook"
    }
   },
   "outputs": [],
   "source": [
    "Measure-Command {\n",
    "\tfor ($i=0; $i -lt 1000; $i++) {\n",
    "\t\t$null = (Get-Date)\n",
    "\t}\n",
    "} | Select-Object -ExpandProperty TotalMilliseconds"
   ]
  }
 ],
 "metadata": {
  "language_info": {
   "name": "csharp"
  },
  "orig_nbformat": 4
 },
 "nbformat": 4,
 "nbformat_minor": 2
}
