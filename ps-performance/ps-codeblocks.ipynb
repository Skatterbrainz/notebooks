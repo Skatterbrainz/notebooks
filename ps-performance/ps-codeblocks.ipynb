{
 "cells": [
  {
   "cell_type": "markdown",
   "metadata": {},
   "source": [
    "# PowerShell Code Blocks"
   ]
  },
  {
   "attachments": {},
   "cell_type": "markdown",
   "metadata": {},
   "source": [
    "Does formatting matter when it comes to execution performance?"
   ]
  },
  {
   "cell_type": "code",
   "execution_count": null,
   "metadata": {
    "dotnet_interactive": {
     "language": "pwsh"
    },
    "polyglot_notebook": {
     "kernelName": "pwsh"
    },
    "vscode": {
     "languageId": "polyglot-notebook"
    }
   },
   "outputs": [],
   "source": [
    "$procs = Get-Process"
   ]
  },
  {
   "cell_type": "code",
   "execution_count": 3,
   "metadata": {
    "dotnet_interactive": {
     "language": "pwsh"
    },
    "polyglot_notebook": {
     "kernelName": "pwsh"
    },
    "vscode": {
     "languageId": "polyglot-notebook"
    }
   },
   "outputs": [
    {
     "name": "stdout",
     "output_type": "stream",
     "text": [
      "28.3106\r\n"
     ]
    }
   ],
   "source": [
    "Measure-Command {\n",
    "\tfor ($i = 0; $i -lt 10000; $i++) {\n",
    "\t\tif ($procs.Count -gt 50)\n",
    "\t\t{\n",
    "\t\t\t$result = $true\n",
    "\t\t}\n",
    "\t\telse \n",
    "\t\t{\n",
    "\t\t\t$result = $false\n",
    "\t\t}\n",
    "\t}\n",
    "} | Select-Object -ExpandProperty TotalMilliseconds"
   ]
  },
  {
   "cell_type": "code",
   "execution_count": 4,
   "metadata": {
    "dotnet_interactive": {
     "language": "pwsh"
    },
    "polyglot_notebook": {
     "kernelName": "pwsh"
    },
    "vscode": {
     "languageId": "polyglot-notebook"
    }
   },
   "outputs": [
    {
     "name": "stdout",
     "output_type": "stream",
     "text": [
      "28.7092\r\n"
     ]
    }
   ],
   "source": [
    "Measure-Command {\n",
    "\tfor ($i = 0; $i -lt 10000; $i++) {\n",
    "\t\tif ($procs.Count -gt 50) {\n",
    "\t\t\t$result = $true\n",
    "\t\t} else {\n",
    "\t\t\t$result = $false\n",
    "\t\t}\n",
    "\t}\n",
    "} | Select-Object -ExpandProperty TotalMilliseconds"
   ]
  },
  {
   "cell_type": "code",
   "execution_count": 6,
   "metadata": {
    "dotnet_interactive": {
     "language": "pwsh"
    },
    "polyglot_notebook": {
     "kernelName": "pwsh"
    },
    "vscode": {
     "languageId": "polyglot-notebook"
    }
   },
   "outputs": [
    {
     "name": "stdout",
     "output_type": "stream",
     "text": [
      "33.5928\r\n"
     ]
    }
   ],
   "source": [
    "Measure-Command {\n",
    "\tfor ($i = 0; $i -lt 10000; $i++) {\n",
    "\t\tif ($procs.Count -gt 50) { $result = $true } else { $result = $false }\n",
    "\t}\n",
    "} | Select-Object -ExpandProperty TotalMilliseconds"
   ]
  }
 ],
 "metadata": {
  "language_info": {
   "name": "csharp"
  },
  "orig_nbformat": 4
 },
 "nbformat": 4,
 "nbformat_minor": 2
}
