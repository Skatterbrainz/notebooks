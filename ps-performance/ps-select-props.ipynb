{
 "cells": [
  {
   "attachments": {},
   "cell_type": "markdown",
   "metadata": {},
   "source": [
    "# PowerShell: Property Selection (Aliases)"
   ]
  },
  {
   "attachments": {},
   "cell_type": "markdown",
   "metadata": {},
   "source": [
    "NOTE: Be sure to run each performance test example 2 or 3 times to get an average."
   ]
  },
  {
   "attachments": {},
   "cell_type": "markdown",
   "metadata": {},
   "source": [
    "What if, for some unknown reason, you need to return a set of files and their associated properties in the following form:\n",
    "\n",
    "* Name\n",
    "* Path\n",
    "* DateCreated\n",
    "* DateModified\n",
    "\n",
    "You could use customize the output using the [Select-Object](https://learn.microsoft.com/en-us/powershell/module/microsoft.powershell.utility/select-object) cmdlet, or you could use a PSObject ([pscustomobject]) to override the default output. Let's compare the performance of each method using a set of files from a typical Windows machine.  We'll use the [Get-ChildItem](https://learn.microsoft.com/en-us/powershell/module/microsoft.powershell.management/get-childitem) to enumerate .XML [File](https://learn.microsoft.com/en-us/dotnet/api/system.io.file) objects in the C:\\Windows\\System32 folder. Run the following code block to prepare for the remainder of this notebook."
   ]
  },
  {
   "cell_type": "code",
   "execution_count": null,
   "metadata": {
    "dotnet_interactive": {
     "language": "pwsh"
    },
    "polyglot_notebook": {
     "kernelName": "pwsh"
    },
    "vscode": {
     "languageId": "polyglot-notebook"
    }
   },
   "outputs": [],
   "source": [
    "$files = Get-ChildItem -Path \"c:\\windows\\system32\" -Filter \"*.xml\" -File\n",
    "Write-Host \"You are ready to proceed!\" -ForegroundColor Yellow"
   ]
  },
  {
   "cell_type": "code",
   "execution_count": null,
   "metadata": {
    "dotnet_interactive": {
     "language": "pwsh"
    },
    "polyglot_notebook": {
     "kernelName": "pwsh"
    },
    "vscode": {
     "languageId": "polyglot-notebook"
    }
   },
   "outputs": [],
   "source": [
    "$files[0] | Select-Object *"
   ]
  },
  {
   "attachments": {},
   "cell_type": "markdown",
   "metadata": {},
   "source": [
    "There's plenty of information available in this sample file output (above). The ```Name``` property is fine as-is. But we need to convert ```FullName``` to ```Path```, ```CreationTime``` to ```DateCreated```, and ```LastWriteTime``` to ```DateModified```.\n",
    "\n",
    "The ```Select-Object``` cmdlet allows for overriding the propert names and values returned from an object. You use the \"Label\" and \"Expression\" parameters to specify the output property name, and associated value, respectively. The example below translates the ```FullName``` property to ```Path```:"
   ]
  },
  {
   "cell_type": "code",
   "execution_count": null,
   "metadata": {
    "dotnet_interactive": {
     "language": "pwsh"
    },
    "polyglot_notebook": {
     "kernelName": "pwsh"
    },
    "vscode": {
     "languageId": "polyglot-notebook"
    }
   },
   "outputs": [],
   "source": [
    "$files[0] | Select-Object @{label='Path';expression={$_.FullName}}"
   ]
  },
  {
   "attachments": {},
   "cell_type": "markdown",
   "metadata": {},
   "source": [
    "You can also shorten \"Label\" to just \"L\" or \"l\", and \"Expression\" to \"E\" or \"e\". The tricky part is the formatting and making sure not to end up with unbalanced braces.\n",
    "\n",
    "```@{ Label=\"Name\"; Expression={\"Value\"}}```\n",
    "\n",
    "\"Value\" in the above example can be an explicit value, or a variable, property or function. Anything that can return a value."
   ]
  },
  {
   "attachments": {},
   "cell_type": "markdown",
   "metadata": {},
   "source": [
    "Run the following to see how to convert the built-in properties names to the desired output names:"
   ]
  },
  {
   "cell_type": "code",
   "execution_count": null,
   "metadata": {
    "dotnet_interactive": {
     "language": "pwsh"
    },
    "polyglot_notebook": {
     "kernelName": "pwsh"
    },
    "vscode": {
     "languageId": "polyglot-notebook"
    }
   },
   "outputs": [],
   "source": [
    "$files[0] | Select-Object @{l='Name';e={$_.Name}},@{l='Path';e={$_.FullName}},@{l='DateModified';e={$_.LastWriteTime}},@{l='DateCreated';e={$_.CreationTime}}"
   ]
  },
  {
   "attachments": {},
   "cell_type": "markdown",
   "metadata": {},
   "source": [
    "Next, we will use a PSObject to modify the output"
   ]
  },
  {
   "cell_type": "code",
   "execution_count": null,
   "metadata": {
    "dotnet_interactive": {
     "language": "pwsh"
    },
    "polyglot_notebook": {
     "kernelName": "pwsh"
    },
    "vscode": {
     "languageId": "polyglot-notebook"
    }
   },
   "outputs": [],
   "source": [
    "$files[0] | Foreach-Object {\n",
    "\t[pscustomobject]@{\n",
    "\t\tName = $_.Name\n",
    "\t\tPath = $_.FullName\n",
    "\t\tDateCreated = $_.CreationTime\n",
    "\t\tDateModified = $_.LastWriteTime\n",
    "\t}\n",
    "}"
   ]
  },
  {
   "attachments": {},
   "cell_type": "markdown",
   "metadata": {},
   "source": [
    "Same result for each. But now we can test which is processed faster."
   ]
  },
  {
   "attachments": {},
   "cell_type": "markdown",
   "metadata": {},
   "source": [
    "## Performance Tests: Which is Faster?"
   ]
  },
  {
   "attachments": {},
   "cell_type": "markdown",
   "metadata": {},
   "source": [
    "### TEST 1 - Select-Object with Custom Labels"
   ]
  },
  {
   "cell_type": "code",
   "execution_count": null,
   "metadata": {
    "dotnet_interactive": {
     "language": "pwsh"
    },
    "polyglot_notebook": {
     "kernelName": "pwsh"
    },
    "vscode": {
     "languageId": "polyglot-notebook"
    }
   },
   "outputs": [],
   "source": [
    "Measure-Command {\n",
    "\t$files | Select-Object @{l='Name';e={$_.Name}},@{l='Path';e={$_.FullName}},@{l='DateModified';e={$_.LastWriteTime}},@{l='DateCreated';e={$_.CreationTime}}\n",
    "} | Select-Object -ExpandProperty TotalMilliseconds"
   ]
  },
  {
   "attachments": {},
   "cell_type": "markdown",
   "metadata": {},
   "source": [
    "### TEST 2 - PSObject / [pscustomobject]"
   ]
  },
  {
   "cell_type": "code",
   "execution_count": null,
   "metadata": {
    "dotnet_interactive": {
     "language": "pwsh"
    },
    "polyglot_notebook": {
     "kernelName": "pwsh"
    },
    "vscode": {
     "languageId": "polyglot-notebook"
    }
   },
   "outputs": [],
   "source": [
    "Measure-Command {\n",
    "\tforeach ($file in $files) {\n",
    "\t\t[pscustomobject]@{\n",
    "\t\t\tName = $_.Name\n",
    "\t\t\tPath = $_.FullName\n",
    "\t\t\tDateModified = $_.LastWriteTime\n",
    "\t\t\tDateCreated = $_.CreationTime\n",
    "\t\t}\n",
    "\t}\n",
    "} | Select-Object -ExpandProperty TotalMilliseconds"
   ]
  },
  {
   "attachments": {},
   "cell_type": "markdown",
   "metadata": {},
   "source": [
    "Another option using a PSObject is to build out the properties using ```Add-Member```. Let's try one example first..."
   ]
  },
  {
   "cell_type": "code",
   "execution_count": null,
   "metadata": {
    "dotnet_interactive": {
     "language": "pwsh"
    },
    "polyglot_notebook": {
     "kernelName": "pwsh"
    },
    "vscode": {
     "languageId": "polyglot-notebook"
    }
   },
   "outputs": [],
   "source": [
    "$f = New-Object -TypeName PSObject\n",
    "$f | Add-Member -MemberType NoteProperty -Name Name -Value $files[0].Name\n",
    "$f | Add-Member -MemberType NoteProperty -Name Path -Value $files[0].FullName\n",
    "$f | Add-Member -MemberType NoteProperty -Name DateCreated -Value $files[0].CreationTime\n",
    "$f | Add-Member -MemberType NoteProperty -Name DateModified -Value $files[0].LastWriteTime\n",
    "$f"
   ]
  },
  {
   "attachments": {},
   "cell_type": "markdown",
   "metadata": {},
   "source": [
    "### TEST 3 - PSObject using Add-Member"
   ]
  },
  {
   "cell_type": "code",
   "execution_count": null,
   "metadata": {
    "dotnet_interactive": {
     "language": "pwsh"
    },
    "polyglot_notebook": {
     "kernelName": "pwsh"
    },
    "vscode": {
     "languageId": "polyglot-notebook"
    }
   },
   "outputs": [],
   "source": [
    "Measure-Command {\n",
    "\tforeach ($file in $files) {\n",
    "\t\t$f = New-Object -TypeName PSObject\n",
    "\t\t$f | Add-Member -MemberType NoteProperty -Name Name -Value $file.Name\n",
    "\t\t$f | Add-Member -MemberType NoteProperty -Name Path -Value $file.FullName\n",
    "\t\t$f | Add-Member -MemberType NoteProperty -Name DateCreated -Value $file.CreationTime\n",
    "\t\t$f | Add-Member -MemberType NoteProperty -Name DateModified -Value $file.LastWriteTime\n",
    "\t}\n",
    "} | Select-Object -ExpandProperty TotalMilliseconds"
   ]
  },
  {
   "attachments": {},
   "cell_type": "markdown",
   "metadata": {},
   "source": [
    "## More Tests"
   ]
  },
  {
   "attachments": {},
   "cell_type": "markdown",
   "metadata": {},
   "source": [
    "### TEST 4 - Instantiate Object, then Add Properties"
   ]
  },
  {
   "cell_type": "code",
   "execution_count": null,
   "metadata": {
    "dotnet_interactive": {
     "language": "pwsh"
    },
    "polyglot_notebook": {
     "kernelName": "pwsh"
    },
    "vscode": {
     "languageId": "polyglot-notebook"
    }
   },
   "outputs": [],
   "source": [
    "Measure-Command {\n",
    "\tfor ($i = 0; $i -lt 1000; $i++) {\n",
    "\t\t$item = New-Object -TypeName psobject\n",
    "\t\t$item | Add-Member -MemberType NoteProperty -Name Caption -Value \"My Object\"\n",
    "\t\t$item | Add-Member -MemberType NoteProperty -Name Counter -Value $i\n",
    "\t}\n",
    "} | Select-Object -ExpandProperty TotalMilliseconds"
   ]
  },
  {
   "attachments": {},
   "cell_type": "markdown",
   "metadata": {},
   "source": [
    "### TEST 5 - Instantiate Object with Properties"
   ]
  },
  {
   "cell_type": "code",
   "execution_count": null,
   "metadata": {
    "dotnet_interactive": {
     "language": "pwsh"
    },
    "polyglot_notebook": {
     "kernelName": "pwsh"
    },
    "vscode": {
     "languageId": "polyglot-notebook"
    }
   },
   "outputs": [],
   "source": [
    "Measure-Command {\n",
    "\tfor ($i = 0; $i -lt 1000; $i++) {\n",
    "\t\t$item = New-Object -TypeName psobject -Property @{Caption = \"My Object\"; Counter = $i}\n",
    "\t}\n",
    "} | Select-Object -ExpandProperty TotalMilliseconds"
   ]
  },
  {
   "attachments": {},
   "cell_type": "markdown",
   "metadata": {},
   "source": [
    "### TEST 6 - PSObject / [pscustomobject]"
   ]
  },
  {
   "cell_type": "code",
   "execution_count": null,
   "metadata": {
    "dotnet_interactive": {
     "language": "pwsh"
    },
    "polyglot_notebook": {
     "kernelName": "pwsh"
    },
    "vscode": {
     "languageId": "polyglot-notebook"
    }
   },
   "outputs": [],
   "source": [
    "Measure-Command {\n",
    "\tfor ($i = 0; $i -lt 1000; $i++) {\n",
    "\t\t$item = [pscustomobject]@{Caption = \"My Object\"; Counter = $i}\n",
    "\t}\n",
    "} | Select-Object -ExpandProperty TotalMilliseconds"
   ]
  },
  {
   "attachments": {},
   "cell_type": "markdown",
   "metadata": {},
   "source": [
    "## Conclusion"
   ]
  },
  {
   "attachments": {},
   "cell_type": "markdown",
   "metadata": {},
   "source": [
    "These are very basic examples. You could bend the results of any of these by changing some of the ways you build the custom object. For example, the NoteProperty is one of multiple property [MemberType](https://learn.microsoft.com/en-us/dotnet/api/system.management.automation.psmembertypes) options for the [Add-Member](https://learn.microsoft.com/en-us/powershell/module/microsoft.powershell.utility/add-member) cmdlet. You may feel this is worrying too much about a small thing. But if you end up processing a large amount of data the performance differences can vary significantly."
   ]
  }
 ],
 "metadata": {
  "language_info": {
   "name": "csharp"
  },
  "orig_nbformat": 4
 },
 "nbformat": 4,
 "nbformat_minor": 2
}
