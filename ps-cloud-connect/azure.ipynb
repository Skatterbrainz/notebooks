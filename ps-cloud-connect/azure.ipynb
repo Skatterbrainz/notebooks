{
 "cells": [
  {
   "cell_type": "markdown",
   "metadata": {},
   "source": [
    "# PowerShell Cloud Connections"
   ]
  },
  {
   "cell_type": "markdown",
   "metadata": {},
   "source": [
    "### Azure"
   ]
  },
  {
   "cell_type": "markdown",
   "metadata": {},
   "source": [
    "Summary | Access and Manage Azure Resources (ARM)\n",
    "--|--\n",
    "Module | Az.Accounts (part of Az)\n",
    "Permissions | RBAC assigned within Azure Tenant: Management Group, Subscription, Resource Group, or Resource\n",
    "Reference | [Link](https://learn.microsoft.com/en-us/powershell/module/az.accounts/connect-azaccount?view=azps-10.4.1)"
   ]
  },
  {
   "cell_type": "code",
   "execution_count": null,
   "metadata": {
    "dotnet_interactive": {
     "language": "pwsh"
    },
    "polyglot_notebook": {
     "kernelName": "pwsh"
    },
    "vscode": {
     "languageId": "polyglot-notebook"
    }
   },
   "outputs": [],
   "source": [
    "Get-Help Connect-AzAccount"
   ]
  },
  {
   "cell_type": "markdown",
   "metadata": {},
   "source": [
    "#### Connecting to Azure"
   ]
  },
  {
   "cell_type": "code",
   "execution_count": null,
   "metadata": {
    "dotnet_interactive": {
     "language": "pwsh"
    },
    "polyglot_notebook": {
     "kernelName": "pwsh"
    },
    "vscode": {
     "languageId": "polyglot-notebook"
    }
   },
   "outputs": [],
   "source": [
    "$conn = Connect-AzAccount\n",
    "\n",
    "Disconnect-AzAccount"
   ]
  },
  {
   "cell_type": "code",
   "execution_count": null,
   "metadata": {
    "dotnet_interactive": {
     "language": "pwsh"
    },
    "polyglot_notebook": {
     "kernelName": "pwsh"
    },
    "vscode": {
     "languageId": "polyglot-notebook"
    }
   },
   "outputs": [],
   "source": [
    "$conn | Format-List"
   ]
  },
  {
   "cell_type": "code",
   "execution_count": null,
   "metadata": {
    "dotnet_interactive": {
     "language": "pwsh"
    },
    "polyglot_notebook": {
     "kernelName": "pwsh"
    },
    "vscode": {
     "languageId": "polyglot-notebook"
    }
   },
   "outputs": [],
   "source": [
    "Get-AzContext | Select Name,Account,Environment,Subscription | Format-List"
   ]
  },
  {
   "cell_type": "code",
   "execution_count": null,
   "metadata": {
    "dotnet_interactive": {
     "language": "pwsh"
    },
    "polyglot_notebook": {
     "kernelName": "pwsh"
    },
    "vscode": {
     "languageId": "polyglot-notebook"
    }
   },
   "outputs": [],
   "source": [
    "if (-not $conn) {\n",
    "\tWrite-Host \"Connecting to Azure...\"\n",
    "\t$global:conn = Connect-AzAccount\n",
    "} else {\n",
    "\tWrite-Host \"Already connected to Azure.\"\n",
    "}"
   ]
  },
  {
   "cell_type": "markdown",
   "metadata": {},
   "source": [
    "Connecting from within an Automation Runbook (assuming the Automation Account has a system-assigned Identity, and granted API permissions)"
   ]
  },
  {
   "cell_type": "code",
   "execution_count": null,
   "metadata": {
    "dotnet_interactive": {
     "language": "pwsh"
    },
    "polyglot_notebook": {
     "kernelName": "pwsh"
    },
    "vscode": {
     "languageId": "polyglot-notebook"
    }
   },
   "outputs": [],
   "source": [
    "$conn = Connect-AzAccount -Identity"
   ]
  },
  {
   "cell_type": "markdown",
   "metadata": {},
   "source": [
    "#### Connection Context"
   ]
  },
  {
   "cell_type": "markdown",
   "metadata": {},
   "source": [
    "Each time you establish a new Azure connection, the \"context\" of that connection is retained.\n",
    "* You can accumulate multiple Contexts\n",
    "* Each Context will exist until the cached token expires\n",
    "* You can switch between connections by Context without having to re-authenticate"
   ]
  },
  {
   "cell_type": "code",
   "execution_count": null,
   "metadata": {
    "dotnet_interactive": {
     "language": "pwsh"
    },
    "polyglot_notebook": {
     "kernelName": "pwsh"
    },
    "vscode": {
     "languageId": "polyglot-notebook"
    }
   },
   "outputs": [],
   "source": [
    "$currentContext = Get-AzContext\n",
    "$currentContext | Select-Object Subscription,@{l='Name';e={$($_.Name.Substring(0,52))}},Account | FL"
   ]
  },
  {
   "cell_type": "markdown",
   "metadata": {},
   "source": [
    "Changing Context"
   ]
  },
  {
   "cell_type": "code",
   "execution_count": null,
   "metadata": {
    "dotnet_interactive": {
     "language": "pwsh"
    },
    "polyglot_notebook": {
     "kernelName": "pwsh"
    },
    "vscode": {
     "languageId": "polyglot-notebook"
    }
   },
   "outputs": [],
   "source": [
    "# list all subscriptions in the current tenant (based on RBAC access)\n",
    "Get-AzSubscription | Select-Object Name,Id"
   ]
  },
  {
   "cell_type": "code",
   "execution_count": null,
   "metadata": {
    "dotnet_interactive": {
     "language": "pwsh"
    },
    "polyglot_notebook": {
     "kernelName": "pwsh"
    },
    "vscode": {
     "languageId": "polyglot-notebook"
    }
   },
   "outputs": [],
   "source": [
    "# change to subscription \"Contoso\"\n",
    "Set-AzContext \"Contoso\""
   ]
  },
  {
   "cell_type": "code",
   "execution_count": null,
   "metadata": {
    "dotnet_interactive": {
     "language": "pwsh"
    },
    "polyglot_notebook": {
     "kernelName": "pwsh"
    },
    "vscode": {
     "languageId": "polyglot-notebook"
    }
   },
   "outputs": [],
   "source": [
    "# change back to previous subscription\n",
    "Set-AzContext $currentContext"
   ]
  },
  {
   "cell_type": "markdown",
   "metadata": {},
   "source": [
    "### Microsoft Graph"
   ]
  },
  {
   "cell_type": "markdown",
   "metadata": {},
   "source": [
    "Summary | Access and Manage Azure AD and Intune environments and related objects\n",
    "--|--\n",
    "Note | *Replaces the AzureAD and AzureADPreview modules*\n",
    "Module | Microsoft.Graph and Microsoft.Graph.Authentication\n",
    "Permissions | RBAC assigned within Teams or EntraID\n",
    "Reference | [Link](https://learn.microsoft.com/en-us/powershell/module/teams/connect-microsoftteams?view=teams-ps)"
   ]
  },
  {
   "cell_type": "code",
   "execution_count": null,
   "metadata": {
    "dotnet_interactive": {
     "language": "pwsh"
    },
    "polyglot_notebook": {
     "kernelName": "pwsh"
    },
    "vscode": {
     "languageId": "polyglot-notebook"
    }
   },
   "outputs": [],
   "source": [
    "Connect-MgGraph -NoWelcome -TenantId $tenantID\n",
    "$users = Get-MgUser -ConsistencyLevel eventual -All\n",
    "Write-Host \"$($users.Count) users returned\""
   ]
  },
  {
   "cell_type": "code",
   "execution_count": null,
   "metadata": {
    "dotnet_interactive": {
     "language": "pwsh"
    },
    "polyglot_notebook": {
     "kernelName": "pwsh"
    },
    "vscode": {
     "languageId": "polyglot-notebook"
    }
   },
   "outputs": [],
   "source": [
    "$users[4] | Select-Object *"
   ]
  },
  {
   "cell_type": "markdown",
   "metadata": {},
   "source": [
    "### SharePoint Online"
   ]
  },
  {
   "cell_type": "markdown",
   "metadata": {},
   "source": [
    "Summary | Access and Manage SharePoint Online Sites, Lists, and Much More. Can also connect to the management service.\n",
    "--|--\n",
    "Module | pnp.PowerShell\n",
    "Permissions | RBAC assigned within SharePoint Online or EntraID\n",
    "Reference | [Link](https://pnp.github.io/powershell/cmdlets/Connect-PnPOnline.html)"
   ]
  },
  {
   "cell_type": "code",
   "execution_count": null,
   "metadata": {
    "dotnet_interactive": {
     "language": "pwsh"
    },
    "polyglot_notebook": {
     "kernelName": "pwsh"
    },
    "vscode": {
     "languageId": "polyglot-notebook"
    }
   },
   "outputs": [],
   "source": [
    "$MyURL = 'https://skatterbrainz.sharepoint.com/sites/UserManagement'\n",
    "$conn = Connect-PnPOnline -Url $MyURL -ReturnConnection -Interactive\n",
    "$conn"
   ]
  },
  {
   "cell_type": "markdown",
   "metadata": {},
   "source": [
    "### Exchange Online"
   ]
  },
  {
   "cell_type": "markdown",
   "metadata": {},
   "source": [
    "Summary | Access and Manage Exchange Online Organization, Mailboxes, and related Settings\n",
    "--|--\n",
    "Module | ExchangeOnlineManagement"
   ]
  },
  {
   "cell_type": "code",
   "execution_count": null,
   "metadata": {
    "dotnet_interactive": {
     "language": "pwsh"
    },
    "polyglot_notebook": {
     "kernelName": "pwsh"
    },
    "vscode": {
     "languageId": "polyglot-notebook"
    }
   },
   "outputs": [],
   "source": [
    "$params = @{\n",
    "\tCredential = $Credential\n",
    "\tExchangeEnvironmentName = \"O365Default\"\n",
    "\tOrganization = \"contoso.onmicrosoft.com\"\n",
    "\tShowBanner   = $False\n",
    "\tShowProgress = $False\n",
    "\tErrorAction  = 'Stop'\n",
    "}\n",
    "\n",
    "Connect-ExchangeOnline @params\n",
    "\n",
    "# (do something here)\n",
    "\n",
    "Disconnect-ExchangeOnline -Confirm:$False -ErrorAction SilentlyContinue"
   ]
  },
  {
   "cell_type": "code",
   "execution_count": null,
   "metadata": {
    "dotnet_interactive": {
     "language": "pwsh"
    },
    "polyglot_notebook": {
     "kernelName": "pwsh"
    },
    "vscode": {
     "languageId": "polyglot-notebook"
    }
   },
   "outputs": [],
   "source": [
    "$params = @{\n",
    "\tAppId = $Credential.UserName \n",
    "\tCertificateThumbprint   = $Certificate.Thumbprint\n",
    "\tExchangeEnvironmentName = \"O365Default\"\n",
    "\tOrganization = \"contoso.onmicrosoft.com\"\n",
    "\tShowBanner   = $False\n",
    "\tShowProgress = $False\n",
    "\tErrorAction  = 'Stop'\n",
    "}\n",
    "\n",
    "Connect-ExchangeOnline @params\n",
    "\n",
    "# (do something here)\n",
    "\n",
    "$null = Disconnect-ExchangeOnline -Confirm:$False -ErrorAction SilentlyContinue"
   ]
  },
  {
   "cell_type": "code",
   "execution_count": null,
   "metadata": {
    "dotnet_interactive": {
     "language": "pwsh"
    },
    "polyglot_notebook": {
     "kernelName": "pwsh"
    },
    "vscode": {
     "languageId": "polyglot-notebook"
    }
   },
   "outputs": [],
   "source": [
    "Connect-ExchangeOnline -Identity\n",
    "\n",
    "# (do something here)\n",
    "\n",
    "$null = Disconnect-ExchangeOnline -Confirm:$False -ErrorAction SilentlyContinue"
   ]
  },
  {
   "cell_type": "markdown",
   "metadata": {},
   "source": [
    "### Exchange Security and Compliance"
   ]
  },
  {
   "cell_type": "code",
   "execution_count": null,
   "metadata": {
    "dotnet_interactive": {
     "language": "pwsh"
    },
    "polyglot_notebook": {
     "kernelName": "pwsh"
    },
    "vscode": {
     "languageId": "polyglot-notebook"
    }
   },
   "outputs": [],
   "source": [
    "$params = @{}\n",
    "\n",
    "Connect-IPPSSession @params"
   ]
  },
  {
   "cell_type": "markdown",
   "metadata": {},
   "source": [
    "### Exchange On-Premises"
   ]
  },
  {
   "cell_type": "markdown",
   "metadata": {},
   "source": [
    "Summary | Access and Manage On-Prem Exchange Instances\n",
    "--|--\n",
    "Module | (Imported on Demand)\n",
    "Permissions | RBAC assigned within Exchange\n",
    "Reference | [Link](https://learn.microsoft.com/en-us/powershell/exchange/connect-to-exchange-servers-using-remote-powershell?view=exchange-ps)"
   ]
  },
  {
   "cell_type": "code",
   "execution_count": null,
   "metadata": {
    "dotnet_interactive": {
     "language": "pwsh"
    },
    "polyglot_notebook": {
     "kernelName": "pwsh"
    },
    "vscode": {
     "languageId": "polyglot-notebook"
    }
   },
   "outputs": [],
   "source": [
    "$params = @{\n",
    "\tConfigurationName = \"Microsoft.Exchange\"\n",
    "\tConnectionUri     = \"http://mailserver03/powershell\"\n",
    "\tCredential        = $Credential\n",
    "}\n",
    "$ExchSession = New-PSSession @params\n",
    "$null = Import-PSSession -Session $ExchSession -DisableNameChecking -AllowClobber\n",
    "\n",
    "# (do something here)\n",
    "\n",
    "$null = Remove-PSSession $ExchSession"
   ]
  },
  {
   "cell_type": "markdown",
   "metadata": {},
   "source": [
    "### Teams"
   ]
  },
  {
   "cell_type": "markdown",
   "metadata": {},
   "source": [
    "Summary | Access and Manage Microsoft Teams and Team Channels\n",
    "--|--\n",
    "Module | MicrosoftTeams"
   ]
  },
  {
   "cell_type": "code",
   "execution_count": null,
   "metadata": {
    "dotnet_interactive": {
     "language": "pwsh"
    },
    "polyglot_notebook": {
     "kernelName": "pwsh"
    },
    "vscode": {
     "languageId": "polyglot-notebook"
    }
   },
   "outputs": [],
   "source": [
    "Connect-MicrosoftTeams"
   ]
  },
  {
   "cell_type": "code",
   "execution_count": null,
   "metadata": {
    "dotnet_interactive": {
     "language": "pwsh"
    },
    "polyglot_notebook": {
     "kernelName": "pwsh"
    },
    "vscode": {
     "languageId": "polyglot-notebook"
    }
   },
   "outputs": [],
   "source": [
    "$teams = Get-Team\n",
    "$teams[0] | Select *"
   ]
  },
  {
   "cell_type": "code",
   "execution_count": null,
   "metadata": {
    "dotnet_interactive": {
     "language": "pwsh"
    },
    "polyglot_notebook": {
     "kernelName": "pwsh"
    },
    "vscode": {
     "languageId": "polyglot-notebook"
    }
   },
   "outputs": [],
   "source": [
    "$params = @{\n",
    "\tDisplayName = \"Project Bluefish\"\n",
    "\tDescription = \"Project Bluefish Development and Collaboration\"\n",
    "\tOwner       = \"dave@skatterbrainz.xyz\"\n",
    "\tVisibility  = \"Public\"\n",
    "}\n",
    "$team = New-Team @params"
   ]
  },
  {
   "cell_type": "code",
   "execution_count": null,
   "metadata": {
    "dotnet_interactive": {
     "language": "pwsh"
    },
    "polyglot_notebook": {
     "kernelName": "pwsh"
    },
    "vscode": {
     "languageId": "polyglot-notebook"
    }
   },
   "outputs": [],
   "source": [
    "$params = @{\n",
    "\tGroupId = $team.GroupId\n",
    "\tUser    = \"emily@skatterbrainz.xyz\"\n",
    "\tRole    = \"Member\"\n",
    "}\n",
    "Add-TeamUser @params"
   ]
  }
 ],
 "metadata": {
  "language_info": {
   "name": "csharp"
  }
 },
 "nbformat": 4,
 "nbformat_minor": 2
}
