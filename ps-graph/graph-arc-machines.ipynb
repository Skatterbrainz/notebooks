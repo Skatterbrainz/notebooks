{
 "cells": [
  {
   "cell_type": "code",
   "execution_count": null,
   "metadata": {
    "dotnet_interactive": {
     "language": "pwsh"
    },
    "polyglot_notebook": {
     "kernelName": "pwsh"
    },
    "vscode": {
     "languageId": "polyglot-notebook"
    }
   },
   "outputs": [],
   "source": [
    "if (!(Get-Module Az.ConnectedMachine -ListAvailable)) {\n",
    "\t#Install-Module Az.ConnectedMachine\n",
    "\tWrite-Host \"Run: Install-Module Az.ConnectedMachine\"\n",
    "} else {\n",
    "\tWrite-Host \"module already installed\"\n",
    "}"
   ]
  },
  {
   "cell_type": "code",
   "execution_count": null,
   "metadata": {
    "dotnet_interactive": {
     "language": "pwsh"
    },
    "polyglot_notebook": {
     "kernelName": "pwsh"
    },
    "vscode": {
     "languageId": "polyglot-notebook"
    }
   },
   "outputs": [],
   "source": [
    "Import-Module Az.ConnectedMachine"
   ]
  },
  {
   "cell_type": "code",
   "execution_count": 6,
   "metadata": {
    "dotnet_interactive": {
     "language": "pwsh"
    },
    "polyglot_notebook": {
     "kernelName": "pwsh"
    },
    "vscode": {
     "languageId": "polyglot-notebook"
    }
   },
   "outputs": [
    {
     "name": "stdout",
     "output_type": "stream",
     "text": [
      "connecting to subscription\r\n"
     ]
    }
   ],
   "source": [
    "if (!(Get-AzContext)) {\n",
    "\tWrite-Host \"connecting to azure\"\n",
    "\t$null = Connect-AzAccount\n",
    "} else {\n",
    "\tWrite-Host \"already connected to azure\"\n",
    "}"
   ]
  },
  {
   "cell_type": "code",
   "execution_count": 7,
   "metadata": {
    "dotnet_interactive": {
     "language": "pwsh"
    },
    "polyglot_notebook": {
     "kernelName": "pwsh"
    },
    "vscode": {
     "languageId": "polyglot-notebook"
    }
   },
   "outputs": [],
   "source": [
    "$servers = Get-AzConnectedMachine -SubscriptionId \"\""
   ]
  },
  {
   "cell_type": "code",
   "execution_count": 8,
   "metadata": {
    "dotnet_interactive": {
     "language": "pwsh"
    },
    "polyglot_notebook": {
     "kernelName": "pwsh"
    },
    "vscode": {
     "languageId": "polyglot-notebook"
    }
   },
   "outputs": [
    {
     "name": "stdout",
     "output_type": "stream",
     "text": [
      "4\r\n"
     ]
    }
   ],
   "source": [
    "$servers.Count"
   ]
  },
  {
   "cell_type": "code",
   "execution_count": 9,
   "metadata": {
    "dotnet_interactive": {
     "language": "pwsh"
    },
    "polyglot_notebook": {
     "kernelName": "pwsh"
    },
    "vscode": {
     "languageId": "polyglot-notebook"
    }
   },
   "outputs": [
    {
     "name": "stdout",
     "output_type": "stream",
     "text": [
      "\n",
      "\u001b[32;1mAdFqdn                                          : \u001b[0mDC01.contoso.local\n",
      "\u001b[32;1mAgentConfigurationExtensionsAllowList           : \u001b[0m{}\n",
      "\u001b[32;1mAgentConfigurationExtensionsBlockList           : \u001b[0m{}\n",
      "\u001b[32;1mAgentConfigurationExtensionsEnabled             : \u001b[0mtrue\n",
      "\u001b[32;1mAgentConfigurationGuestConfigurationEnabled     : \u001b[0mtrue\n",
      "\u001b[32;1mAgentConfigurationIncomingConnectionsPort       : \u001b[0m{}\n",
      "\u001b[32;1mAgentConfigurationProxyBypass                   : \u001b[0m{}\n",
      "\u001b[32;1mAgentConfigurationProxyUrl                      : \u001b[0m\n",
      "\u001b[32;1mAgentVersion                                    : \u001b[0m1.30.02313.988\n",
      "\u001b[32;1mClientPublicKey                                 : \u001b[0mMIIBCgKCAQEAsKwTPYUKCZle/LZNMkDebeFbDQHPdCnxoNYJA\n",
      "                                                  UzjTD6KZ8Z48eMb9RlIsQv74BHScHk0y9ACje1ozIW9h0DJlS\n",
      "                                                  ar8uQ8XauESjZ3/mG2riOG48PLmJSp8BcQB+E2NQda+sRrQ2e\n",
      "                                                  gyChnhKX9aRc2n18A5OWmV8zh9AlDo6LTrBrJ7gSX7i1IJnid\n",
      "                                                  ImZONXqyqc5WMY+1X5mUjhZi4K2/egnuzquJwGKHLvFCX53Ac\n",
      "                                                  S79qecOnL2rNi0fVudsjY2R/vkNrqFjGDwmSF5Zu2SMmtGp9A\n",
      "                                                  D04z417dsLz7K3duWIwBoPkR9FYtdwFvPJmZkFliHct4Wo5cC\n",
      "                                                  7V4Sz1eujnQIDAQAB\n",
      "\u001b[32;1mCloudMetadataProvider                           : \u001b[0mN/A\n",
      "\u001b[32;1mDetectedProperty                                : \u001b[0m{\n",
      "                                                    \"cloudprovider\": \"N/A\",\n",
      "                                                    \"logicalCoreCount\": \"2\",\n",
      "                                                    \"manufacturer\": \"Microsoft Corporation\",\n",
      "                                                    \"model\": \"Virtual Machine\",\n",
      "                                                    \"mssqldiscovered\": \"false\"\n",
      "                                                  }\n",
      "\u001b[32;1mDisplayName                                     : \u001b[0mDC01\n",
      "\u001b[32;1mDnsFqdn                                         : \u001b[0mcontoso.local.DC01\n",
      "\u001b[32;1mDomainName                                      : \u001b[0mcontoso.local\n",
      "\u001b[32;1mErrorDetail                                     : \u001b[0m{}\n",
      "\u001b[32;1mExtension                                       : \u001b[0m\n",
      "\u001b[32;1mExtensionServiceStartupType                     : \u001b[0mautomatic\n",
      "\u001b[32;1mExtensionServiceStatus                          : \u001b[0mrunning\n",
      "\u001b[32;1mFqdn                                            : \u001b[0mDC01\n",
      "\u001b[32;1mGuestConfigurationServiceStartupType            : \u001b[0mautomatic\n",
      "\u001b[32;1mGuestConfigurationServiceStatus                 : \u001b[0mrunning\n",
      "\u001b[32;1mId                                              : \u001b[0m/subscriptions/71970e97-c95c-4fff-9db3-7ea9ead357\n",
      "                                                  c4/resourceGroups/endpoint-rg/providers/Microsoft\n",
      "                                                  .HybridCompute/machines/DC01\n",
      "\u001b[32;1mIdentityPrincipalId                             : \u001b[0mf7e08194-cd31-40a1-b7fd-5d5a4b30086a\n",
      "\u001b[32;1mIdentityTenantId                                : \u001b[0mf6631820-e272-4579-85a4-227fce070261\n",
      "\u001b[32;1mIdentityType                                    : \u001b[0mSystemAssigned\n",
      "\u001b[32;1mLastStatusChange                                : \u001b[0m6/6/2023 5:22:11 AM\n",
      "\u001b[32;1mLinuxConfigurationPatchSettingsAssessmentMode   : \u001b[0m\n",
      "\u001b[32;1mLinuxConfigurationPatchSettingsPatchMode        : \u001b[0m\n",
      "\u001b[32;1mLocation                                        : \u001b[0meastus\n",
      "\u001b[32;1mLocationDataCity                                : \u001b[0m\n",
      "\u001b[32;1mLocationDataCountryOrRegion                     : \u001b[0m\n",
      "\u001b[32;1mLocationDataDistrict                            : \u001b[0m\n",
      "\u001b[32;1mLocationDataName                                : \u001b[0m\n",
      "\u001b[32;1mMssqlDiscovered                                 : \u001b[0mfalse\n",
      "\u001b[32;1mName                                            : \u001b[0mDC01\n",
      "\u001b[32;1mOSName                                          : \u001b[0mwindows\n",
      "\u001b[32;1mOSProfileComputerName                           : \u001b[0mDC01\n",
      "\u001b[32;1mOSSku                                           : \u001b[0mWindows Server 2019 Standard\n",
      "\u001b[32;1mOSType                                          : \u001b[0mwindows\n",
      "\u001b[32;1mOSVersion                                       : \u001b[0m10.0.17763.4377\n",
      "\u001b[32;1mParentClusterResourceId                         : \u001b[0m\n",
      "\u001b[32;1mPrivateLinkScopeResourceId                      : \u001b[0m\n",
      "\u001b[32;1mProvisioningState                               : \u001b[0mSucceeded\n",
      "\u001b[32;1mResourceGroupName                               : \u001b[0mendpoint-rg\n",
      "\u001b[32;1mStatus                                          : \u001b[0mDisconnected\n",
      "\u001b[32;1mSystemDataCreatedAt                             : \u001b[0m\n",
      "\u001b[32;1mSystemDataCreatedBy                             : \u001b[0m\n",
      "\u001b[32;1mSystemDataCreatedByType                         : \u001b[0m\n",
      "\u001b[32;1mSystemDataLastModifiedAt                        : \u001b[0m\n",
      "\u001b[32;1mSystemDataLastModifiedBy                        : \u001b[0m\n",
      "\u001b[32;1mSystemDataLastModifiedByType                    : \u001b[0m\n",
      "\u001b[32;1mTag                                             : \u001b[0m{\n",
      "                                                    \"CostCenter\": \"TBD\",\n",
      "                                                    \"DataClassification\": \"TBD\",\n",
      "                                                    \"DateCreated\": \"2023-05-01T18:01:01.7618427Z\",\n",
      "                                                    \"Env\": \"TBD\"\n",
      "                                                  }\n",
      "\u001b[32;1mType                                            : \u001b[0mMicrosoft.HybridCompute/machines\n",
      "\u001b[32;1mVMId                                            : \u001b[0meb78cdbb-2466-4402-aa95-a8e141418d8e\n",
      "\u001b[32;1mVMUuid                                          : \u001b[0m7F8E53CD-34F8-4E48-B419-9EFBF00D21DB\n",
      "\u001b[32;1mWindowsConfigurationPatchSettingsAssessmentMode : \u001b[0m\n",
      "\u001b[32;1mWindowsConfigurationPatchSettingsPatchMode      : \u001b[0m\n",
      "\n",
      "\n"
     ]
    }
   ],
   "source": [
    "$servers[0] | Select * | Format-List"
   ]
  }
 ],
 "metadata": {
  "language_info": {
   "name": "csharp"
  },
  "orig_nbformat": 4
 },
 "nbformat": 4,
 "nbformat_minor": 2
}
