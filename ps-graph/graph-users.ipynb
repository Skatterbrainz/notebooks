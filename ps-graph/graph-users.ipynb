{
 "cells": [
  {
   "attachments": {},
   "cell_type": "markdown",
   "metadata": {},
   "source": [
    "# PowerShell: Microsoft Graph / User Accounts"
   ]
  },
  {
   "attachments": {},
   "cell_type": "markdown",
   "metadata": {},
   "source": [
    "### Install and Load the Module"
   ]
  },
  {
   "cell_type": "code",
   "execution_count": null,
   "metadata": {
    "dotnet_interactive": {
     "language": "pwsh"
    },
    "polyglot_notebook": {
     "kernelName": "pwsh"
    },
    "vscode": {
     "languageId": "polyglot-notebook"
    }
   },
   "outputs": [],
   "source": [
    "if (!(Get-Module Microsoft.Graph.Users -ListAvailable)) {\n",
    "\tInstall-Module Microsoft.Graph.Users\n",
    "} else {\n",
    "\tWrite-Host \"module already installed\"\n",
    "}\n",
    "Import-Module Microsoft.Graph.Users"
   ]
  },
  {
   "attachments": {},
   "cell_type": "markdown",
   "metadata": {},
   "source": [
    "### Connect to Graph"
   ]
  },
  {
   "cell_type": "code",
   "execution_count": null,
   "metadata": {
    "dotnet_interactive": {
     "language": "pwsh"
    },
    "polyglot_notebook": {
     "kernelName": "pwsh"
    },
    "vscode": {
     "languageId": "polyglot-notebook"
    }
   },
   "outputs": [],
   "source": [
    "if (!(Get-MgContext)) {\n",
    "\t#Connect-MgGraph -Identity  ## use this in Azure if you have a Managed Identity\n",
    "\tConnect-MgGraph User.Read.All,Organization.Read.All,Directory.Read.All\n",
    "}"
   ]
  },
  {
   "attachments": {},
   "cell_type": "markdown",
   "metadata": {},
   "source": [
    "### Get all user accounts"
   ]
  },
  {
   "cell_type": "code",
   "execution_count": null,
   "metadata": {
    "dotnet_interactive": {
     "language": "pwsh"
    },
    "polyglot_notebook": {
     "kernelName": "pwsh"
    },
    "vscode": {
     "languageId": "polyglot-notebook"
    }
   },
   "outputs": [],
   "source": [
    "$users = Get-MgUser -All\n",
    "$users.Count"
   ]
  },
  {
   "attachments": {},
   "cell_type": "markdown",
   "metadata": {},
   "source": [
    "### Get properties for one user account"
   ]
  },
  {
   "cell_type": "code",
   "execution_count": null,
   "metadata": {
    "dotnet_interactive": {
     "language": "pwsh"
    },
    "polyglot_notebook": {
     "kernelName": "pwsh"
    },
    "vscode": {
     "languageId": "polyglot-notebook"
    }
   },
   "outputs": [],
   "source": [
    "$users[0] | Select-Object * | Format-List"
   ]
  },
  {
   "attachments": {},
   "cell_type": "markdown",
   "metadata": {},
   "source": [
    "### Get all user accounts with extended properties"
   ]
  },
  {
   "cell_type": "code",
   "execution_count": null,
   "metadata": {
    "dotnet_interactive": {
     "language": "pwsh"
    },
    "polyglot_notebook": {
     "kernelName": "pwsh"
    },
    "vscode": {
     "languageId": "polyglot-notebook"
    }
   },
   "outputs": [],
   "source": [
    "$UserProps = @('Id','AccountEnabled','DisplayName','Surname','jobTitle','EmployeeId','EmployeeType',\n",
    "\t'userPrincipalName','mail','CompanyName','Department','OfficeLocation','OtherMails','UsageLocation')\n",
    "\n",
    "$users = $(Get-MgUser -Property $Properties -All -ConsistencyLevel 'eventual' | Select-Object $properties)\n",
    "$users.Count"
   ]
  },
  {
   "cell_type": "code",
   "execution_count": null,
   "metadata": {
    "dotnet_interactive": {
     "language": "pwsh"
    },
    "polyglot_notebook": {
     "kernelName": "pwsh"
    },
    "vscode": {
     "languageId": "polyglot-notebook"
    }
   },
   "outputs": [],
   "source": [
    "$users[0] | Select-Object * | Format-List"
   ]
  },
  {
   "attachments": {},
   "cell_type": "markdown",
   "metadata": {},
   "source": [
    "### Disconnect"
   ]
  },
  {
   "cell_type": "code",
   "execution_count": null,
   "metadata": {
    "dotnet_interactive": {
     "language": "pwsh"
    },
    "polyglot_notebook": {
     "kernelName": "pwsh"
    },
    "vscode": {
     "languageId": "polyglot-notebook"
    }
   },
   "outputs": [],
   "source": [
    "if (Get-MgContext) {\n",
    "\t$null = Disconnect-MgGraph\n",
    "\tWrite-Host \"You are now disconnected\"\n",
    "}"
   ]
  },
  {
   "attachments": {},
   "cell_type": "markdown",
   "metadata": {},
   "source": [
    "### Combining into a function"
   ]
  },
  {
   "cell_type": "code",
   "execution_count": 11,
   "metadata": {
    "dotnet_interactive": {
     "language": "pwsh"
    },
    "polyglot_notebook": {
     "kernelName": "pwsh"
    },
    "vscode": {
     "languageId": "polyglot-notebook"
    }
   },
   "outputs": [
    {
     "name": "stdout",
     "output_type": "stream",
     "text": [
      "\n",
      "\u001b[32;1mId                                   DisplayName Mail                      UserPrincipalName\u001b[0m\n",
      "\u001b[32;1m--                                   ----------- ----                      -----------------       \u001b[0m\n",
      "9b21ee07-a94c-4267-ab46-9459ce8585d6 David Stein david.stein@quisitive.com david.stein_quisitive.c…\n",
      "\n"
     ]
    }
   ],
   "source": [
    "function Get-AadUsers {\n",
    "\t[CmdletBinding()]\n",
    "\tparam (\n",
    "\t\t[parameter()][switch]$Identity ## use this in Azure if you have a Managed Identity\n",
    "\t)\n",
    "\ttry {\n",
    "\t\tif (!(Get-MgContext)) {\n",
    "\t\t\tif ($Identity) {\n",
    "\t\t\t\tConnect-MgGraph -Identity\n",
    "\t\t\t} else {\n",
    "\t\t\t\tConnect-MgGraph User.Read.All,Organization.Read.All,Directory.Read.All\n",
    "\t\t\t}\n",
    "\t\t\t$internalConnect = $True\n",
    "\t\t}\n",
    "\t\t$UserProps = @('Id','AccountEnabled','DisplayName','Surname','jobTitle','EmployeeId','EmployeeType',\n",
    "\t\t\t'userPrincipalName','mail','CompanyName','Department','OfficeLocation','OtherMails','UsageLocation')\n",
    "\t\t$users = $(Get-MgUser -Property $Properties -All -ConsistencyLevel 'eventual' | Select-Object $properties)\n",
    "\t\t$result = [pscustomobject]@{\n",
    "\t\t\tStatus = 'Success'\n",
    "\t\t\tUsers = $users\n",
    "\t\t}\n",
    "\t}\n",
    "\tcatch {\n",
    "\t\t$result = [pscustomobject]@{\n",
    "\t\t\tStatus = 'Error'\n",
    "\t\t\tMessage = $($_.Exception.Message)\n",
    "\t\t}\n",
    "\t}\n",
    "\tfinally {\n",
    "\t\tWrite-Output $result\n",
    "\t\tif (($internalConnect = $True) -and (Get-MgContext)) {\n",
    "\t\t\t$null = Disconnect-MgGraph\n",
    "\t\t}\n",
    "\t}\n",
    "}\n",
    "\n",
    "$response = Get-AadUsers\n",
    "$response.Users[5]"
   ]
  }
 ],
 "metadata": {
  "language_info": {
   "name": "csharp"
  },
  "orig_nbformat": 4
 },
 "nbformat": 4,
 "nbformat_minor": 2
}
