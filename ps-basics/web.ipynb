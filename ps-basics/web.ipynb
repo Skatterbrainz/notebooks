{
 "cells": [
  {
   "cell_type": "markdown",
   "metadata": {},
   "source": [
    "# PowerShell Basics: Web Methods"
   ]
  },
  {
   "cell_type": "markdown",
   "metadata": {},
   "source": [
    "### Web Downloads"
   ]
  },
  {
   "cell_type": "code",
   "execution_count": null,
   "metadata": {
    "dotnet_interactive": {
     "language": "pwsh"
    },
    "polyglot_notebook": {
     "kernelName": "pwsh"
    },
    "vscode": {
     "languageId": "polyglot-notebook"
    }
   },
   "outputs": [],
   "source": [
    "$scriptCode = (New-Object System.Net.WebClient).DownloadString('https://chocolatey.org/install.ps1')\n",
    "$scriptCode.Length"
   ]
  },
  {
   "cell_type": "code",
   "execution_count": null,
   "metadata": {
    "dotnet_interactive": {
     "language": "pwsh"
    },
    "polyglot_notebook": {
     "kernelName": "pwsh"
    },
    "vscode": {
     "languageId": "polyglot-notebook"
    }
   },
   "outputs": [],
   "source": [
    "$scriptCode = (Invoke-WebRequest 'https://chocolatey.org/install.ps1').content\n",
    "$scriptCode.Length"
   ]
  },
  {
   "cell_type": "markdown",
   "metadata": {},
   "source": [
    "### URI Strings"
   ]
  },
  {
   "cell_type": "code",
   "execution_count": null,
   "metadata": {
    "dotnet_interactive": {
     "language": "pwsh"
    },
    "polyglot_notebook": {
     "kernelName": "pwsh"
    },
    "vscode": {
     "languageId": "polyglot-notebook"
    }
   },
   "outputs": [],
   "source": [
    "$uri = [System.Uri]::new('https://chocolatey.org/install.ps1')\n",
    "$uri.Host # return the URL host portion\n",
    "$uri.Segments[-1] # return the URL document portion"
   ]
  },
  {
   "cell_type": "markdown",
   "metadata": {},
   "source": [
    "### Dad Jokes REST API\n",
    "\n",
    "- https://rapidapi.com/KegenGuyll/api/dad-jokes/\n",
    "- Basic/Free subscription limited to 50 requests per day"
   ]
  },
  {
   "cell_type": "code",
   "execution_count": null,
   "metadata": {
    "dotnet_interactive": {
     "language": "pwsh"
    },
    "polyglot_notebook": {
     "kernelName": "pwsh"
    },
    "vscode": {
     "languageId": "polyglot-notebook"
    }
   },
   "outputs": [],
   "source": [
    "$apikey = Import-Clixml c:\\git\\tech-notes\\powershell\\dadjoke.api.xml\n",
    "$headers=@{}\n",
    "$headers.Add(\"X-RapidAPI-Host\", \"dad-jokes.p.rapidapi.com\")\n",
    "$headers.Add(\"X-RapidAPI-Key\", $apikey)\n",
    "$response = Invoke-RestMethod -Uri 'https://dad-jokes.p.rapidapi.com/random/joke' -Method GET -Headers $headers\n",
    "$setup = $response.Body.setup\n",
    "$punchline = $response.Body.punchline\n",
    "Write-Output $setup\n",
    "Start-Sleep -Seconds 5\n",
    "Write-Output $punchline"
   ]
  },
  {
   "cell_type": "markdown",
   "metadata": {},
   "source": [
    "### HTML Rendering"
   ]
  },
  {
   "cell_type": "code",
   "execution_count": null,
   "metadata": {
    "dotnet_interactive": {
     "language": "pwsh"
    },
    "polyglot_notebook": {
     "kernelName": "pwsh"
    },
    "vscode": {
     "languageId": "polyglot-notebook"
    }
   },
   "outputs": [],
   "source": [
    "<html>\n",
    "<head>\n",
    "\t<title>Sample HTML</title>\n",
    "</head>\n",
    "<body>\n",
    "\t<h1>Hello World!</h1>\n",
    "\t<p>This is <span style=\"color:yellow\">HTML</span> content.</p>\n",
    "</body>\n",
    "</html>"
   ]
  }
 ],
 "metadata": {
  "language_info": {
   "name": "csharp"
  },
  "orig_nbformat": 4
 },
 "nbformat": 4,
 "nbformat_minor": 2
}
