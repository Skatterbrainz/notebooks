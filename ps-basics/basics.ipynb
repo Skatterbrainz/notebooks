{
 "cells": [
  {
   "cell_type": "markdown",
   "metadata": {},
   "source": [
    "# PowerShell Basics"
   ]
  },
  {
   "cell_type": "markdown",
   "metadata": {},
   "source": [
    "Composite Expressions\n",
    "* Expressions\n",
    "* Scripts\n",
    "* Functions\n",
    "* Modules"
   ]
  },
  {
   "cell_type": "markdown",
   "metadata": {},
   "source": [
    "### Expressions"
   ]
  },
  {
   "cell_type": "code",
   "execution_count": null,
   "metadata": {
    "dotnet_interactive": {
     "language": "pwsh"
    },
    "polyglot_notebook": {
     "kernelName": "pwsh"
    },
    "vscode": {
     "languageId": "polyglot-notebook"
    }
   },
   "outputs": [],
   "source": [
    "$x = 3\n",
    "$y = 4\n",
    "$z = $x + $y\n",
    "$z"
   ]
  },
  {
   "cell_type": "markdown",
   "metadata": {},
   "source": [
    "### Functions"
   ]
  },
  {
   "cell_type": "code",
   "execution_count": null,
   "metadata": {
    "dotnet_interactive": {
     "language": "pwsh"
    },
    "polyglot_notebook": {
     "kernelName": "pwsh"
    },
    "vscode": {
     "languageId": "polyglot-notebook"
    }
   },
   "outputs": [],
   "source": [
    "function Add-Numbers ( $x, $y ) {\n",
    "\t$x + $y\n",
    "}"
   ]
  },
  {
   "cell_type": "code",
   "execution_count": null,
   "metadata": {
    "dotnet_interactive": {
     "language": "pwsh"
    },
    "polyglot_notebook": {
     "kernelName": "pwsh"
    },
    "vscode": {
     "languageId": "polyglot-notebook"
    }
   },
   "outputs": [],
   "source": [
    "function Add-Numbers {\n",
    "\tparam (\t$x, $y )\n",
    "\t$x + $y\n",
    "}"
   ]
  },
  {
   "cell_type": "markdown",
   "metadata": {},
   "source": [
    "Test the results..."
   ]
  },
  {
   "cell_type": "code",
   "execution_count": null,
   "metadata": {
    "dotnet_interactive": {
     "language": "pwsh"
    },
    "polyglot_notebook": {
     "kernelName": "pwsh"
    },
    "vscode": {
     "languageId": "polyglot-notebook"
    }
   },
   "outputs": [],
   "source": [
    "Add-Numbers 40 16"
   ]
  },
  {
   "cell_type": "markdown",
   "metadata": {},
   "source": [
    "#### Using the Parameter() feature"
   ]
  },
  {
   "cell_type": "markdown",
   "metadata": {},
   "source": [
    "NOTE: Use the following interactively with various [parameter()] options and data typing constraints."
   ]
  },
  {
   "cell_type": "code",
   "execution_count": null,
   "metadata": {
    "dotnet_interactive": {
     "language": "pwsh"
    },
    "polyglot_notebook": {
     "kernelName": "pwsh"
    },
    "vscode": {
     "languageId": "polyglot-notebook"
    }
   },
   "outputs": [],
   "source": [
    "function Add-Numbers {\n",
    "\tparam (\n",
    "\t\t[parameter()]$x,\n",
    "\t\t[parameter()]$y\n",
    "\t)\n",
    "\t$x + $y\n",
    "}"
   ]
  },
  {
   "cell_type": "markdown",
   "metadata": {},
   "source": [
    "### Scripts"
   ]
  },
  {
   "cell_type": "markdown",
   "metadata": {},
   "source": [
    "Scripts with Expressions execute on invocation."
   ]
  },
  {
   "cell_type": "code",
   "execution_count": null,
   "metadata": {
    "dotnet_interactive": {
     "language": "pwsh"
    },
    "polyglot_notebook": {
     "kernelName": "pwsh"
    },
    "vscode": {
     "languageId": "polyglot-notebook"
    }
   },
   "outputs": [],
   "source": [
    "<# saved in a .ps1 file #>\n",
    "$x = 5\n",
    "$y = 6\n",
    "$z = $x + $y\n",
    "$z"
   ]
  },
  {
   "cell_type": "markdown",
   "metadata": {},
   "source": [
    "Open a PowerShell terminal or console..."
   ]
  },
  {
   "cell_type": "code",
   "execution_count": null,
   "metadata": {
    "dotnet_interactive": {
     "language": "pwsh"
    },
    "polyglot_notebook": {
     "kernelName": "pwsh"
    },
    "vscode": {
     "languageId": "polyglot-notebook"
    }
   },
   "outputs": [],
   "source": [
    "& c:\\temp\\myscript.ps1"
   ]
  },
  {
   "cell_type": "markdown",
   "metadata": {},
   "source": [
    "Scripts with Functions load the function into memory until the script is no longer in memory."
   ]
  },
  {
   "cell_type": "code",
   "execution_count": null,
   "metadata": {
    "dotnet_interactive": {
     "language": "pwsh"
    },
    "polyglot_notebook": {
     "kernelName": "pwsh"
    },
    "vscode": {
     "languageId": "polyglot-notebook"
    }
   },
   "outputs": [],
   "source": [
    "c:\\temp\\AddStrings.ps1"
   ]
  },
  {
   "cell_type": "code",
   "execution_count": null,
   "metadata": {
    "dotnet_interactive": {
     "language": "pwsh"
    },
    "polyglot_notebook": {
     "kernelName": "pwsh"
    },
    "vscode": {
     "languageId": "polyglot-notebook"
    }
   },
   "outputs": [],
   "source": [
    "Add-Strings \"The\" \"Car\"\n",
    "# or Add-String -String1 \"The\" -String2 \"Car\""
   ]
  },
  {
   "cell_type": "markdown",
   "metadata": {},
   "source": [
    "\"Dot-Sourcing\" loads the script into memory until the console session is terminated."
   ]
  },
  {
   "cell_type": "code",
   "execution_count": null,
   "metadata": {
    "dotnet_interactive": {
     "language": "pwsh"
    },
    "polyglot_notebook": {
     "kernelName": "pwsh"
    },
    "vscode": {
     "languageId": "polyglot-notebook"
    }
   },
   "outputs": [],
   "source": [
    ". c:\\temp\\AddStrings.ps1"
   ]
  },
  {
   "cell_type": "code",
   "execution_count": null,
   "metadata": {
    "dotnet_interactive": {
     "language": "pwsh"
    },
    "polyglot_notebook": {
     "kernelName": "pwsh"
    },
    "vscode": {
     "languageId": "polyglot-notebook"
    }
   },
   "outputs": [],
   "source": [
    "Add-Strings \"The\" \"Car\""
   ]
  },
  {
   "cell_type": "markdown",
   "metadata": {},
   "source": [
    "### Scripts with Functions = Libraries"
   ]
  },
  {
   "cell_type": "markdown",
   "metadata": {},
   "source": [
    "Save multiple functions into a script file and dot-source the script file into the console session, or into other scripts.\n",
    "You can combine functions and expressions in scripts, which is VERY common."
   ]
  },
  {
   "cell_type": "code",
   "execution_count": null,
   "metadata": {
    "dotnet_interactive": {
     "language": "pwsh"
    },
    "polyglot_notebook": {
     "kernelName": "pwsh"
    },
    "vscode": {
     "languageId": "polyglot-notebook"
    }
   },
   "outputs": [],
   "source": [
    "function Add-Numbers {\n",
    "\tparam ($Number1, $Number2)\n",
    "\t$Number1 + $Number2\n",
    "}\n",
    "\n",
    "function Add-Strings {\n",
    "\tparam (\n",
    "\t\t[parameter()][string]$String1,\n",
    "\t\t[parameter()][string]$String2,\n",
    "\t\t[parameter()][string]$Delimiter = ' '\n",
    "\t)\n",
    "\t($String1, $String2) -join $Delimiter\n",
    "}\n",
    "\n",
    "Add-Strings \"$env:USERNAME\" \"$env:COMPUTERNAME\""
   ]
  },
  {
   "cell_type": "markdown",
   "metadata": {},
   "source": [
    "### Modules"
   ]
  },
  {
   "cell_type": "markdown",
   "metadata": {},
   "source": [
    "Multiple functions, scripts, combined and \"wrapped\" with a \"Manifest\" which uses a .PSD1 extension. A Manifest provides a catalog interface:\n",
    "\n",
    "* Module Name\n",
    "* Version\n",
    "* Author\n",
    "* Description and Tags\n",
    "* Dependencies - *these will be installed with the new module if needed*\n",
    "* Minimum Requirements\n",
    "* Additional Assets\n",
    "\n",
    "Modules typically have a \"root module\" file with a .PSM1 extension."
   ]
  },
  {
   "cell_type": "markdown",
   "metadata": {},
   "source": [
    "Example Manifest (.psd1)\n",
    "\n",
    "```powershell\n",
    "@{\n",
    "\tRootModule        = '.\\captools.psm1'\n",
    "\tModuleVersion     = '2.1.2'\n",
    "\tGUID              = '5a0e6368-3f41-414d-b026-c7270eff7738'\n",
    "\tAuthor            = 'Expert Consultant Person'\n",
    "\tCompanyName       = 'Quisitive'\n",
    "\tCopyright         = '(c) 2023 Quisitive. All rights reserved.'\n",
    "\tDescription       = 'Quisitive - Cloud Automation Platform Tools'\n",
    "\tPowerShellVersion = '5.1'\n",
    "\t...\n",
    "```"
   ]
  },
  {
   "cell_type": "markdown",
   "metadata": {},
   "source": [
    "#### Module Commands"
   ]
  },
  {
   "cell_type": "markdown",
   "metadata": {},
   "source": [
    "Command | Description | Notes\n",
    "--|--|--\n",
    "Get-Module | list local modules | available or installed\n",
    "Find-Module | search for modules in a repo | search PowerShell Gallery\n",
    "Install-Module | download a module from a repo | such as PowerShell Gallery\n",
    "Update-Module | update a module to match a repo | to latest version or specified version\n",
    "Import-Module | import a local module into a console session | Auto-import since PS 5.1\n",
    "Remove-Module | remove a module from the console session | in some scenarios\n",
    "Uninstall-Module | remove a module from the local machine or user profile | removes the local files"
   ]
  },
  {
   "cell_type": "markdown",
   "metadata": {},
   "source": [
    "## EXERCISES"
   ]
  },
  {
   "cell_type": "markdown",
   "metadata": {},
   "source": [
    "### Exercise 1 - List Modules\n",
    "\n",
    "1. Type: ```Get-Module```\n",
    "2. Type: ```Get-Module -ListAvailable```"
   ]
  },
  {
   "cell_type": "markdown",
   "metadata": {},
   "source": [
    "### Exercise 2 - Get Module Details\n",
    "\n",
    "1. Type: ```Get-Module PSReadLine | Select-Object *```\n",
    "   * Note the values for each property (Name, Version, RootModule, etc.)\n",
    "2. Copy the [Path] property and search for it in Windows File Explorer\n",
    "   * Navigate within the module path and note the folder structure."
   ]
  },
  {
   "cell_type": "markdown",
   "metadata": {},
   "source": [
    "### Exercise 3 - Search for a Module\n",
    "\n",
    "1. Type: ```Find-Module Az.Accounts```\n",
    "\t* Review the output.\n",
    "3. Type: ```Find-Module Az.Accounts | Select-Object *```\n",
    "\t* Review the output."
   ]
  },
  {
   "cell_type": "markdown",
   "metadata": {},
   "source": [
    "### Exercise 4 - Install a Module\n",
    "\n",
    "1. Type: ```Install-Module Helium```\n",
    "2. Type: ```Get-Module```\n",
    "\t* Note that the module does not appear to be available.\n",
    "4. Type: ```Get-Command -Module Helium```\n",
    "\t* Review the list of commands.\n",
    "6. Type: ```Get-Module```\n",
    "   * Note that the module has been imported.\n",
    "7. Type: ```Get-Module Helium | Select-Object Path```"
   ]
  },
  {
   "cell_type": "markdown",
   "metadata": {},
   "source": [
    "### Exercise 5 - Install a Module with Context\n",
    "\n",
    "1. Type: ```Install-Module ImportExcel -Scope CurrentUser```\n",
    "2. Type: ```Get-Module ImportExcel | Select-Object Path```"
   ]
  },
  {
   "cell_type": "markdown",
   "metadata": {},
   "source": [
    "### Exercise 6 - Module Dependencies\n",
    "\n",
    "1. Type: ```Find-Module Az.Automation | Select-Object -Expand Dependencies```"
   ]
  }
 ],
 "metadata": {
  "language_info": {
   "name": "csharp"
  }
 },
 "nbformat": 4,
 "nbformat_minor": 2
}
