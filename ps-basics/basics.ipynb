{
 "cells": [
  {
   "cell_type": "markdown",
   "metadata": {},
   "source": [
    "# PowerShell Basics"
   ]
  },
  {
   "cell_type": "markdown",
   "metadata": {},
   "source": [
    "Composite Expressions\n",
    "* Expressions\n",
    "* Scripts\n",
    "* Functions\n",
    "* Modules"
   ]
  },
  {
   "cell_type": "markdown",
   "metadata": {},
   "source": [
    "### Expressions"
   ]
  },
  {
   "cell_type": "code",
   "execution_count": null,
   "metadata": {
    "dotnet_interactive": {
     "language": "pwsh"
    },
    "polyglot_notebook": {
     "kernelName": "pwsh"
    },
    "vscode": {
     "languageId": "polyglot-notebook"
    }
   },
   "outputs": [],
   "source": [
    "$x = 3\n",
    "$y = 4\n",
    "$z = $x + $y\n",
    "$z"
   ]
  },
  {
   "cell_type": "markdown",
   "metadata": {},
   "source": [
    "### Functions"
   ]
  },
  {
   "cell_type": "code",
   "execution_count": null,
   "metadata": {
    "dotnet_interactive": {
     "language": "pwsh"
    },
    "polyglot_notebook": {
     "kernelName": "pwsh"
    },
    "vscode": {
     "languageId": "polyglot-notebook"
    }
   },
   "outputs": [],
   "source": [
    "function Add-Numbers ( $x, $y ) {\n",
    "\t$x + $y\n",
    "}"
   ]
  },
  {
   "cell_type": "code",
   "execution_count": null,
   "metadata": {
    "dotnet_interactive": {
     "language": "pwsh"
    },
    "polyglot_notebook": {
     "kernelName": "pwsh"
    },
    "vscode": {
     "languageId": "polyglot-notebook"
    }
   },
   "outputs": [],
   "source": [
    "function Add-Numbers {\n",
    "\tparam (\t$x, $y )\n",
    "\t$x + $y\n",
    "}"
   ]
  },
  {
   "cell_type": "markdown",
   "metadata": {},
   "source": [
    "Test the results..."
   ]
  },
  {
   "cell_type": "code",
   "execution_count": null,
   "metadata": {
    "dotnet_interactive": {
     "language": "pwsh"
    },
    "polyglot_notebook": {
     "kernelName": "pwsh"
    },
    "vscode": {
     "languageId": "polyglot-notebook"
    }
   },
   "outputs": [],
   "source": [
    "Add-Numbers 40 16"
   ]
  },
  {
   "cell_type": "markdown",
   "metadata": {},
   "source": [
    "#### Using the Parameter() feature"
   ]
  },
  {
   "cell_type": "markdown",
   "metadata": {},
   "source": [
    "NOTE: Use the following interactively with various [parameter()] options and data typing constraints."
   ]
  },
  {
   "cell_type": "code",
   "execution_count": null,
   "metadata": {
    "dotnet_interactive": {
     "language": "pwsh"
    },
    "polyglot_notebook": {
     "kernelName": "pwsh"
    },
    "vscode": {
     "languageId": "polyglot-notebook"
    }
   },
   "outputs": [],
   "source": [
    "function Add-Numbers {\n",
    "\tparam (\n",
    "\t\t[parameter()]$x,\n",
    "\t\t[parameter()]$y\n",
    "\t)\n",
    "\t$x + $y\n",
    "}"
   ]
  },
  {
   "cell_type": "markdown",
   "metadata": {},
   "source": [
    "### Scripts"
   ]
  },
  {
   "cell_type": "markdown",
   "metadata": {},
   "source": [
    "Scripts with Expressions execute on invocation."
   ]
  },
  {
   "cell_type": "code",
   "execution_count": null,
   "metadata": {
    "dotnet_interactive": {
     "language": "pwsh"
    },
    "polyglot_notebook": {
     "kernelName": "pwsh"
    },
    "vscode": {
     "languageId": "polyglot-notebook"
    }
   },
   "outputs": [],
   "source": [
    "<# saved in a .ps1 file #>\n",
    "$x = 5\n",
    "$y = 6\n",
    "$z = $x + $y\n",
    "$z"
   ]
  },
  {
   "cell_type": "markdown",
   "metadata": {},
   "source": [
    "Open a PowerShell terminal or console..."
   ]
  },
  {
   "cell_type": "code",
   "execution_count": null,
   "metadata": {
    "dotnet_interactive": {
     "language": "pwsh"
    },
    "polyglot_notebook": {
     "kernelName": "pwsh"
    },
    "vscode": {
     "languageId": "polyglot-notebook"
    }
   },
   "outputs": [],
   "source": [
    "& c:\\temp\\myscript.ps1"
   ]
  },
  {
   "cell_type": "markdown",
   "metadata": {},
   "source": [
    "Scripts with Functions load the function into memory until the script is no longer in memory."
   ]
  },
  {
   "cell_type": "code",
   "execution_count": null,
   "metadata": {
    "dotnet_interactive": {
     "language": "pwsh"
    },
    "polyglot_notebook": {
     "kernelName": "pwsh"
    },
    "vscode": {
     "languageId": "polyglot-notebook"
    }
   },
   "outputs": [],
   "source": [
    "c:\\temp\\AddStrings.ps1"
   ]
  },
  {
   "cell_type": "code",
   "execution_count": null,
   "metadata": {
    "dotnet_interactive": {
     "language": "pwsh"
    },
    "polyglot_notebook": {
     "kernelName": "pwsh"
    },
    "vscode": {
     "languageId": "polyglot-notebook"
    }
   },
   "outputs": [],
   "source": [
    "Add-Strings \"The\" \"Car\"\n",
    "# or Add-String -String1 \"The\" -String2 \"Car\""
   ]
  },
  {
   "cell_type": "markdown",
   "metadata": {},
   "source": [
    "\"Dot-Sourcing\" loads the script into memory until the console session is terminated."
   ]
  },
  {
   "cell_type": "code",
   "execution_count": null,
   "metadata": {
    "dotnet_interactive": {
     "language": "pwsh"
    },
    "polyglot_notebook": {
     "kernelName": "pwsh"
    },
    "vscode": {
     "languageId": "polyglot-notebook"
    }
   },
   "outputs": [],
   "source": [
    ". c:\\temp\\AddStrings.ps1"
   ]
  },
  {
   "cell_type": "code",
   "execution_count": null,
   "metadata": {
    "dotnet_interactive": {
     "language": "pwsh"
    },
    "polyglot_notebook": {
     "kernelName": "pwsh"
    },
    "vscode": {
     "languageId": "polyglot-notebook"
    }
   },
   "outputs": [],
   "source": [
    "Add-Strings \"The\" \"Car\""
   ]
  },
  {
   "cell_type": "markdown",
   "metadata": {},
   "source": [
    "### Scripts with Functions = Libraries"
   ]
  },
  {
   "cell_type": "markdown",
   "metadata": {},
   "source": [
    "Save multiple functions into a script file and dot-source the script file into the console session, or into other scripts.\n",
    "You can combine functions and expressions in scripts, which is VERY common."
   ]
  },
  {
   "cell_type": "code",
   "execution_count": null,
   "metadata": {
    "dotnet_interactive": {
     "language": "pwsh"
    },
    "polyglot_notebook": {
     "kernelName": "pwsh"
    },
    "vscode": {
     "languageId": "polyglot-notebook"
    }
   },
   "outputs": [],
   "source": [
    "function Add-Numbers {\n",
    "\tparam ($Number1, $Number2)\n",
    "\t$Number1 + $Number2\n",
    "}\n",
    "\n",
    "function Add-Strings {\n",
    "\tparam (\n",
    "\t\t[parameter()][string]$String1,\n",
    "\t\t[parameter()][string]$String2,\n",
    "\t\t[parameter()][string]$Delimiter = ' '\n",
    "\t)\n",
    "\t($String1, $String2) -join $Delimiter\n",
    "}\n",
    "\n",
    "Add-Strings \"$env:USERNAME\" \"$env:COMPUTERNAME\""
   ]
  },
  {
   "cell_type": "markdown",
   "metadata": {},
   "source": [
    "### Modules"
   ]
  },
  {
   "cell_type": "markdown",
   "metadata": {},
   "source": [
    "Multiple functions, scripts, combined and \"wrapped\" with a \"Manifest\" which uses a .PSD1 extension. A Manifest provides a catalog interface:\n",
    "\n",
    "* Module Name\n",
    "* Version\n",
    "* Author\n",
    "* Description and Tags\n",
    "* Dependencies - *these will be installed with the new module if needed*\n",
    "* Minimum Requirements\n",
    "* Additional Assets\n",
    "\n",
    "Modules typically have a \"root module\" file with a .PSM1 extension."
   ]
  },
  {
   "cell_type": "markdown",
   "metadata": {},
   "source": [
    "Example Manifest (.psd1)\n",
    "\n",
    "```powershell\n",
    "@{\n",
    "\tRootModule        = '.\\RetirementTools.psm1'\n",
    "\tModuleVersion     = '1.0.0'\n",
    "\tGUID              = '5a0e6368-abcd-414d-3210-abcd56787738'\n",
    "\tAuthor            = 'John Wick'\n",
    "\tCompanyName       = 'The Continental'\n",
    "\tCopyright         = '(c) 2023 Assassasin Inc. All rights reserved.'\n",
    "\tDescription       = 'Tools for taking revenge for injuring faithful pets.'\n",
    "\tPowerShellVersion = '5.1'\n",
    "\t...\n",
    "}\n",
    "```"
   ]
  },
  {
   "cell_type": "markdown",
   "metadata": {},
   "source": [
    "#### Module Commands"
   ]
  },
  {
   "cell_type": "markdown",
   "metadata": {},
   "source": [
    "Command | Description | Notes\n",
    "--|--|--\n",
    "Get-Module | list local modules | available or installed\n",
    "Find-Module | search for modules in a repo | search PowerShell Gallery\n",
    "Install-Module | download a module from a repo | such as PowerShell Gallery\n",
    "Update-Module | update a module to match a repo | to latest version or specified version\n",
    "Import-Module | import a local module into a console session | Auto-import since PS 5.1\n",
    "Remove-Module | remove a module from the console session | in some scenarios\n",
    "Uninstall-Module | remove a module from the local machine or user profile | removes the local files"
   ]
  },
  {
   "cell_type": "markdown",
   "metadata": {},
   "source": [
    "## EXERCISES"
   ]
  },
  {
   "cell_type": "markdown",
   "metadata": {},
   "source": [
    "### Exercise 1 - List Modules\n",
    "\n",
    "1. Type: ```Get-Module```\n",
    "2. Type: ```Get-Module -ListAvailable```"
   ]
  },
  {
   "cell_type": "markdown",
   "metadata": {},
   "source": [
    "### Exercise 2 - Get Module Details\n",
    "\n",
    "1. Type: ```Get-Module PSReadLine | Select-Object *```\n",
    "   * Note the values for each property (Name, Version, RootModule, etc.)\n",
    "2. Copy the [Path] property and search for it in Windows File Explorer\n",
    "   * Navigate within the module path and note the folder structure."
   ]
  },
  {
   "cell_type": "markdown",
   "metadata": {},
   "source": [
    "### Exercise 3 - Search for a Module\n",
    "\n",
    "1. Type: ```Find-Module Az.Accounts```\n",
    "\t* Review the output.\n",
    "2. Type: ```Find-Module Az.Accounts | Select-Object *```\n",
    "\t* Review the output.\n",
    "3. Type: ```Find-Module Az.* | Select-Object Name```\n",
    "   * Review the names of modules that start with 'Az.'\n",
    "4. Type: ```Find-Module -Tag azureautomation```"
   ]
  },
  {
   "cell_type": "markdown",
   "metadata": {},
   "source": [
    "### Exercise 4 - Install a Module\n",
    "\n",
    "1. Type: ```Install-Module Helium```\n",
    "2. Type: ```Get-Module```\n",
    "\t* Note that the module does not appear to be available.\n",
    "4. Type: ```Get-Command -Module Helium```\n",
    "\t* Review the list of commands.\n",
    "6. Type: ```Get-Module```\n",
    "   * Note that the module has been imported.\n",
    "7. Type: ```Get-Module Helium | Select-Object Path```"
   ]
  },
  {
   "cell_type": "markdown",
   "metadata": {},
   "source": [
    "### Exercise 5 - Install a Module with Context\n",
    "\n",
    "1. Type: ```Install-Module ImportExcel -Scope CurrentUser```\n",
    "2. Type: ```Get-Module ImportExcel | Select-Object Path```"
   ]
  },
  {
   "cell_type": "markdown",
   "metadata": {},
   "source": [
    "### Exercise 6 - Module Dependencies\n",
    "\n",
    "1. Type: ```Find-Module Az.Automation | Select-Object -ExpandProperty Dependencies```\n",
    "   * Note the Name and MinimumVersion\n",
    "2. Type: ```Find-Module Az.Automation -RequiredVersion 1.6.0 | Select-Object -ExpandProperty Dependencies```\n",
    "   * Note the Name and MinimumVersion\n",
    "   * Compare the MinimumVersion from steps 1 and 2"
   ]
  },
  {
   "cell_type": "markdown",
   "metadata": {},
   "source": [
    "### Exercise 7 - Create a Module\n",
    "\n",
    "1. Create a file named ```MyDates.psm1```, in a convenient location/path. For this exercise we'll use C:\\TEMP, but any path is fine.\n",
    "2. Add 2 or more functions within MyDates.psm1. For example:\n",
    "   \n",
    "   ```powershell\n",
    "   function Get-FutureDate {\n",
    "\t  param (\n",
    "\t\t[parameter(Mandatory)][datetime]$Date,\n",
    "\t\t[parameter()][int]$DaysInTheFuture = 0\n",
    "\t  )\n",
    "      (Get-Date $Date).AddDays($DaysInTheFuture)\n",
    "   }\n",
    "\n",
    "   function Get-PastDate {\n",
    "\t  param (\n",
    "\t\t[parameter(Mandatory)][datetime]$Date,\n",
    "\t\t[parameter()][int]$DaysBack = 0\n",
    "\t  )\n",
    "\t  (Get-Date $Date).AddDays(-$DaysBack)\n",
    "   }\n",
    "   ```\n",
    "3. Save and close the module file\n",
    "4. In a PowerShell or Terminal console, import your module:\n",
    "   ```powershell\n",
    "   Import-Module C:\\TEMP\\MyDates.psm1\n",
    "   ```\n",
    "5. Type: ```Get-Module```\n",
    "   * Note the module and it's Version"
   ]
  },
  {
   "cell_type": "markdown",
   "metadata": {},
   "source": [
    "### Exercise 8 - Create a Module Manifest\n",
    "\n",
    "Using the same MyDates.psm1 module, we'll create a .psd1 manifest to provide additional details about your module.\n",
    "\n",
    "1. In a PowerShell or Terminal console, make sure you're in the same location as the .psm1 file.\n",
    "   ```powershell\n",
    "   cd C:\\TEMP\n",
    "   ```\n",
    "2. Run the following command to create the manifest:\n",
    "   \n",
    "   ```powershell\n",
    "   New-ModuleManifest -Path C:\\TEMP\\MyDates.psd1 -RootModule .\\MyDates.psm1\n",
    "   ```\n",
    "3. In Windows File Explorer, view the contents of the module directory (e.g. C:\\TEMP)\n",
    "4. Open the new MyDates.psd1 file in your editor (Notepad, Visual Studio Code, etc.)\n",
    "   \n",
    "   * Notice how every line has a comment above it to explain its purpose.\n",
    "   * Most properties are commented out. If you didn't specify them in step 3, they use default values.\n",
    "  \n",
    "5. Close the file in your editor, and Delete the file MyDates.psd1.\n",
    "6. Repeat step 3 but include inputs for the parameters:\n",
    "\n",
    "   Property | Value\n",
    "   --|--\n",
    "   Path | C:\\TEMP\\MyDates.psd1\n",
    "   Author | (your name)\n",
    "   CompanyName | Quisitive\n",
    "   Copyright | 2023 Quisitive. All rights reserved\n",
    "   RootModule | .\\MyDates.psm1\n",
    "   ModuleVersion | 1.0.0\n",
    "   Description | Assorted Date Calculation Tools\n",
    "   PowerShellVersion | 5.1\n",
    "   Tags | Dates\n",
    "7. Re-Import your module using the new manifest:\n",
    "   ```PowerShell\n",
    "   Import-Module C:\\TEMP\\MyDates.psd1 -Force\n",
    "   ```\n",
    "8.  Type: ```Get-Module MyDates | Select-Object *```\n"
   ]
  },
  {
   "cell_type": "markdown",
   "metadata": {},
   "source": [
    "## Sharing Modules"
   ]
  },
  {
   "cell_type": "markdown",
   "metadata": {},
   "source": [
    "Once you have created a Module, you can share it simply by placing the files in a location where others can access it.\n",
    "\n",
    "If you only wish to share the Module with users who are connected to your organization's network, you can save it to a network file share. Other users can import the Module directlry from the file share, or download it to a local directory. Plan ahead for what will make the most sense when it comes to maintaining the Module later on (e.g. fixing bugs, adding new functions or features)/\n",
    "\n",
    "If you wish to share your Module with the public, there are some additional considerations:\n",
    "\n",
    "* Already a Module with the same Name\n",
    "* Already a Module which covers the same features\n",
    "* Do the other modules support open source contribution (e.g. GitHub)\n",
    "* Do you want to allow public contribution\n",
    "\n",
    "If you cleared all of these considerations, and still wish to make your Module available to the public, you'll need to publish it somewhere which allows for public access, such as PowerShell Gallery (aka PSGallery).\n",
    "\n",
    "* Create a PowerShell Gallery account\n",
    "* Obtain an API key from within your PS Gallery account\n",
    "* Save your API key in a secure, private location (Keeper, LastPass, KeyPass, BitWarden, etc.)\n",
    "* Publish your module to PowerShell Gallery"
   ]
  }
 ],
 "metadata": {
  "language_info": {
   "name": "csharp"
  }
 },
 "nbformat": 4,
 "nbformat_minor": 2
}
