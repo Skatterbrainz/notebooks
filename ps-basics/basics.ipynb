{
 "cells": [
  {
   "cell_type": "markdown",
   "metadata": {},
   "source": [
    "# PowerShell Basics"
   ]
  },
  {
   "cell_type": "markdown",
   "metadata": {},
   "source": [
    "Compositing and Bundling Expressions: Starting simple and building bigger things.\n",
    "\n",
    "* Expressions\n",
    "* Scripts\n",
    "* Functions\n",
    "* Modules"
   ]
  },
  {
   "cell_type": "markdown",
   "metadata": {},
   "source": [
    "### Expressions"
   ]
  },
  {
   "cell_type": "markdown",
   "metadata": {},
   "source": [
    "Statements that execute and exist only within a console session."
   ]
  },
  {
   "cell_type": "code",
   "execution_count": null,
   "metadata": {
    "dotnet_interactive": {
     "language": "pwsh"
    },
    "polyglot_notebook": {
     "kernelName": "pwsh"
    },
    "vscode": {
     "languageId": "polyglot-notebook"
    }
   },
   "outputs": [],
   "source": [
    "$x = 3\n",
    "$y = 4\n",
    "$z = $x + $y\n",
    "$z"
   ]
  },
  {
   "cell_type": "markdown",
   "metadata": {},
   "source": [
    "### Functions"
   ]
  },
  {
   "cell_type": "markdown",
   "metadata": {},
   "source": [
    "Named set of expressions which may return a result and/or perform some action. Functions only exist within a console session. Functions may or may not accept input (parameters + data)"
   ]
  },
  {
   "cell_type": "markdown",
   "metadata": {},
   "source": [
    "The function name is \"Add-Numbers\" and it has two (2) parameters named X and Y (denoted by $x and $y in the parenthesis)"
   ]
  },
  {
   "cell_type": "code",
   "execution_count": null,
   "metadata": {
    "dotnet_interactive": {
     "language": "pwsh"
    },
    "polyglot_notebook": {
     "kernelName": "pwsh"
    },
    "vscode": {
     "languageId": "polyglot-notebook"
    }
   },
   "outputs": [],
   "source": [
    "function Add-Numbers ( $x, $y ) {\n",
    "\t$x + $y\n",
    "}\n",
    "\n",
    "function Add-Numbers2 {\n",
    "\tparam ($x, $y)\n",
    "\t$x + $y\n",
    "}"
   ]
  },
  {
   "cell_type": "markdown",
   "metadata": {},
   "source": [
    "Test the results..."
   ]
  },
  {
   "cell_type": "code",
   "execution_count": null,
   "metadata": {
    "dotnet_interactive": {
     "language": "pwsh"
    },
    "polyglot_notebook": {
     "kernelName": "pwsh"
    },
    "vscode": {
     "languageId": "polyglot-notebook"
    }
   },
   "outputs": [],
   "source": [
    "Add-Numbers 40 16\n",
    "Add-Numbers2 40 16"
   ]
  },
  {
   "cell_type": "markdown",
   "metadata": {},
   "source": [
    "#### Using the Parameter() feature"
   ]
  },
  {
   "cell_type": "markdown",
   "metadata": {},
   "source": [
    "NOTE: Demonstrate various [parameter()] options and input validation features using the block below."
   ]
  },
  {
   "cell_type": "code",
   "execution_count": null,
   "metadata": {
    "dotnet_interactive": {
     "language": "pwsh"
    },
    "polyglot_notebook": {
     "kernelName": "pwsh"
    },
    "vscode": {
     "languageId": "polyglot-notebook"
    }
   },
   "outputs": [],
   "source": [
    "function Add-Numbers {\n",
    "\tparam (\n",
    "\t\t[parameter(Mandatory=$True)][int][ValidateRange(1,1000)]$x,\n",
    "\t\t[parameter()]$y = 0\n",
    "\t)\n",
    "\t$x + $y\n",
    "}"
   ]
  },
  {
   "cell_type": "code",
   "execution_count": null,
   "metadata": {
    "dotnet_interactive": {
     "language": "pwsh"
    },
    "polyglot_notebook": {
     "kernelName": "pwsh"
    },
    "vscode": {
     "languageId": "polyglot-notebook"
    }
   },
   "outputs": [],
   "source": [
    "Add-Numbers 3\n",
    "Add-Numbers 3 2\n",
    "Add-Numbers 1000 5\n",
    "Add-Numbers 1001 5"
   ]
  },
  {
   "cell_type": "markdown",
   "metadata": {},
   "source": [
    "### Scripts"
   ]
  },
  {
   "cell_type": "markdown",
   "metadata": {},
   "source": [
    "Expressions saved into a .PS1 file which can be reused with minimal input changes.\n",
    "\n",
    "* Expressions within a script will execute upon loading the script.\n",
    "* Functions and Variables within a script will exist in memory during the script execution only (see \"Dot-sourcing\" below).\n",
    "* Global scope Functions and Variables will persist in the console session after script execution completes."
   ]
  },
  {
   "cell_type": "markdown",
   "metadata": {},
   "source": [
    "Save the following example into C:\\TEMP\\MyScript.ps1"
   ]
  },
  {
   "cell_type": "code",
   "execution_count": null,
   "metadata": {
    "dotnet_interactive": {
     "language": "pwsh"
    },
    "polyglot_notebook": {
     "kernelName": "pwsh"
    },
    "vscode": {
     "languageId": "polyglot-notebook"
    }
   },
   "outputs": [],
   "source": [
    "$x = 5\n",
    "$y = 6\n",
    "$z = $x + $y\n",
    "$z"
   ]
  },
  {
   "cell_type": "markdown",
   "metadata": {},
   "source": [
    "Run the Script within a PowerShell terminal or console:"
   ]
  },
  {
   "cell_type": "code",
   "execution_count": null,
   "metadata": {
    "dotnet_interactive": {
     "language": "pwsh"
    },
    "polyglot_notebook": {
     "kernelName": "pwsh"
    },
    "vscode": {
     "languageId": "polyglot-notebook"
    }
   },
   "outputs": [],
   "source": [
    "& c:\\temp\\myscript.ps1"
   ]
  },
  {
   "cell_type": "markdown",
   "metadata": {},
   "source": [
    "Save the following into C:\\TEMP\\AddStrings.ps1"
   ]
  },
  {
   "cell_type": "code",
   "execution_count": null,
   "metadata": {
    "dotnet_interactive": {
     "language": "pwsh"
    },
    "polyglot_notebook": {
     "kernelName": "pwsh"
    },
    "vscode": {
     "languageId": "polyglot-notebook"
    }
   },
   "outputs": [],
   "source": [
    "function Add-Strings {\n",
    "\tparam ($String1, $String2, $Delimiter = ' ')\n",
    "\t($String1, $String2) -join $Delimiter\n",
    "}"
   ]
  },
  {
   "cell_type": "markdown",
   "metadata": {},
   "source": [
    "Run the script and try to use the \"Add-Strings\" function afterwards..."
   ]
  },
  {
   "cell_type": "code",
   "execution_count": null,
   "metadata": {
    "dotnet_interactive": {
     "language": "pwsh"
    },
    "polyglot_notebook": {
     "kernelName": "pwsh"
    },
    "vscode": {
     "languageId": "polyglot-notebook"
    }
   },
   "outputs": [],
   "source": [
    "& c:\\temp\\AddStrings.ps1"
   ]
  },
  {
   "cell_type": "code",
   "execution_count": null,
   "metadata": {
    "dotnet_interactive": {
     "language": "pwsh"
    },
    "polyglot_notebook": {
     "kernelName": "pwsh"
    },
    "vscode": {
     "languageId": "polyglot-notebook"
    }
   },
   "outputs": [],
   "source": [
    "Add-Strings -String1 \"The\" -String2 \"Car\""
   ]
  },
  {
   "cell_type": "markdown",
   "metadata": {},
   "source": [
    "\"Dot-Sourcing\" loads the script into memory until the console session is terminated."
   ]
  },
  {
   "cell_type": "code",
   "execution_count": null,
   "metadata": {
    "dotnet_interactive": {
     "language": "pwsh"
    },
    "polyglot_notebook": {
     "kernelName": "pwsh"
    },
    "vscode": {
     "languageId": "polyglot-notebook"
    }
   },
   "outputs": [],
   "source": [
    ". c:\\temp\\AddStrings.ps1"
   ]
  },
  {
   "cell_type": "code",
   "execution_count": null,
   "metadata": {
    "dotnet_interactive": {
     "language": "pwsh"
    },
    "polyglot_notebook": {
     "kernelName": "pwsh"
    },
    "vscode": {
     "languageId": "polyglot-notebook"
    }
   },
   "outputs": [],
   "source": [
    "Add-Strings -String1 \"The\" -String2 \"Car\""
   ]
  },
  {
   "cell_type": "markdown",
   "metadata": {},
   "source": [
    "### Modules"
   ]
  },
  {
   "cell_type": "markdown",
   "metadata": {},
   "source": [
    "A Module is a collection of related functions and expressions saved as a .PSM1 file\n",
    "\n",
    "* Behaves much like dot-sourcing a script with embedded functions\n",
    "* Allow for using a \"manifest\" .PSD1 file to describe the module (and more)\n",
    "* Minimum items: .PSM1 (.PSD1 is optional)"
   ]
  },
  {
   "cell_type": "markdown",
   "metadata": {},
   "source": [
    "Example Manifest (.psd1)\n",
    "\n",
    "```powershell\n",
    "@{\n",
    "\tRootModule        = '.\\RetirementTools.psm1'\n",
    "\tModuleVersion     = '1.0.0'\n",
    "\tGUID              = '5a0e6368-abcd-414d-3210-abcd56787738'\n",
    "\tAuthor            = 'John Wick'\n",
    "\tCompanyName       = 'The Continental'\n",
    "\tCopyright         = '(c) 2023 Assassasin Inc. All rights reserved.'\n",
    "\tDescription       = 'Tools for taking revenge for injuring faithful pets.'\n",
    "\tPowerShellVersion = '5.1'\n",
    "\t...\n",
    "}\n",
    "```"
   ]
  },
  {
   "cell_type": "markdown",
   "metadata": {},
   "source": [
    "#### Module Commands"
   ]
  },
  {
   "cell_type": "markdown",
   "metadata": {},
   "source": [
    "Command | Description | Notes\n",
    "--|--|--\n",
    "Get-Module | List local modules | Available or installed\n",
    "Find-Module | Search for modules in a repo | PowerShell Gallery\n",
    "Install-Module | Download a module from a repo | PowerShell Gallery\n",
    "Update-Module | Update a module to match a repo | Update to latest version or specified version\n",
    "Import-Module | Import a local module into a console session | Auto-import since PS 5.1\n",
    "Remove-Module | Remove a module from the console session | Not typically necessary\n",
    "Uninstall-Module | Delete a module from the local machine or user profile | Removes the local source files"
   ]
  },
  {
   "cell_type": "markdown",
   "metadata": {},
   "source": [
    "## EXERCISES"
   ]
  },
  {
   "cell_type": "markdown",
   "metadata": {},
   "source": [
    "### Exercise 1 - List Modules"
   ]
  },
  {
   "cell_type": "code",
   "execution_count": null,
   "metadata": {
    "dotnet_interactive": {
     "language": "pwsh"
    },
    "polyglot_notebook": {
     "kernelName": "pwsh"
    },
    "vscode": {
     "languageId": "polyglot-notebook"
    }
   },
   "outputs": [],
   "source": [
    "# List all modules in current session\n",
    "Get-Module | Select Name, Version"
   ]
  },
  {
   "cell_type": "code",
   "execution_count": null,
   "metadata": {
    "dotnet_interactive": {
     "language": "pwsh"
    },
    "polyglot_notebook": {
     "kernelName": "pwsh"
    },
    "vscode": {
     "languageId": "polyglot-notebook"
    }
   },
   "outputs": [],
   "source": [
    "# List all modules currently installed\n",
    "Get-Module -ListAvailable | Select Name, Version"
   ]
  },
  {
   "cell_type": "code",
   "execution_count": null,
   "metadata": {
    "dotnet_interactive": {
     "language": "pwsh"
    },
    "polyglot_notebook": {
     "kernelName": "pwsh"
    },
    "vscode": {
     "languageId": "polyglot-notebook"
    }
   },
   "outputs": [],
   "source": [
    "# Get details about a specific module\n",
    "Get-Module PSReadLine | Select Name, Version"
   ]
  },
  {
   "cell_type": "code",
   "execution_count": null,
   "metadata": {
    "dotnet_interactive": {
     "language": "pwsh"
    },
    "polyglot_notebook": {
     "kernelName": "pwsh"
    },
    "vscode": {
     "languageId": "polyglot-notebook"
    }
   },
   "outputs": [],
   "source": [
    "# Get details about a specific module from installation path\n",
    "Get-Module PSReadLine -ListAvailable | Select Name, Version"
   ]
  },
  {
   "cell_type": "markdown",
   "metadata": {},
   "source": [
    "### Exercise 2 - Get Module Details"
   ]
  },
  {
   "cell_type": "code",
   "execution_count": null,
   "metadata": {
    "dotnet_interactive": {
     "language": "pwsh"
    },
    "polyglot_notebook": {
     "kernelName": "pwsh"
    },
    "vscode": {
     "languageId": "polyglot-notebook"
    }
   },
   "outputs": [],
   "source": [
    "Get-Module PSReadLine -ListAvailable | Select *"
   ]
  },
  {
   "cell_type": "code",
   "execution_count": null,
   "metadata": {
    "dotnet_interactive": {
     "language": "pwsh"
    },
    "polyglot_notebook": {
     "kernelName": "pwsh"
    },
    "vscode": {
     "languageId": "polyglot-notebook"
    }
   },
   "outputs": [],
   "source": [
    "Get-Module PSReadLine -ListAvailable | Select -ExpandProperty Path"
   ]
  },
  {
   "cell_type": "markdown",
   "metadata": {},
   "source": [
    "* Open the Module path in Windows File Explorer.\n",
    "* Navigate within the module path and note the folder structure, files and file types."
   ]
  },
  {
   "cell_type": "markdown",
   "metadata": {},
   "source": [
    "### Exercise 3 - Search for a Module"
   ]
  },
  {
   "cell_type": "code",
   "execution_count": null,
   "metadata": {
    "dotnet_interactive": {
     "language": "pwsh"
    },
    "polyglot_notebook": {
     "kernelName": "pwsh"
    },
    "vscode": {
     "languageId": "polyglot-notebook"
    }
   },
   "outputs": [],
   "source": [
    "Find-Module Az.Accounts"
   ]
  },
  {
   "cell_type": "code",
   "execution_count": null,
   "metadata": {
    "dotnet_interactive": {
     "language": "pwsh"
    },
    "polyglot_notebook": {
     "kernelName": "pwsh"
    },
    "vscode": {
     "languageId": "polyglot-notebook"
    }
   },
   "outputs": [],
   "source": [
    "# Review the output from this example...\n",
    "Find-Module Az.Accounts | Select *"
   ]
  },
  {
   "cell_type": "code",
   "execution_count": null,
   "metadata": {
    "dotnet_interactive": {
     "language": "pwsh"
    },
    "polyglot_notebook": {
     "kernelName": "pwsh"
    },
    "vscode": {
     "languageId": "polyglot-notebook"
    }
   },
   "outputs": [],
   "source": [
    "# Search for modules using a wildcard pattern...\n",
    "Find-Module Az.Auto* | Select -First 5"
   ]
  },
  {
   "cell_type": "code",
   "execution_count": null,
   "metadata": {
    "dotnet_interactive": {
     "language": "pwsh"
    },
    "polyglot_notebook": {
     "kernelName": "pwsh"
    },
    "vscode": {
     "languageId": "polyglot-notebook"
    }
   },
   "outputs": [],
   "source": [
    "# Search for modules using the Tag collection...\n",
    "Find-Module -Tag azureautomation"
   ]
  },
  {
   "cell_type": "code",
   "execution_count": null,
   "metadata": {
    "dotnet_interactive": {
     "language": "pwsh"
    },
    "polyglot_notebook": {
     "kernelName": "pwsh"
    },
    "vscode": {
     "languageId": "polyglot-notebook"
    }
   },
   "outputs": [],
   "source": [
    "Find-Module -Tag Skatterbrainz"
   ]
  },
  {
   "cell_type": "markdown",
   "metadata": {},
   "source": [
    "### Exercise 4 - Install a Module"
   ]
  },
  {
   "cell_type": "code",
   "execution_count": null,
   "metadata": {
    "dotnet_interactive": {
     "language": "pwsh"
    },
    "polyglot_notebook": {
     "kernelName": "pwsh"
    },
    "vscode": {
     "languageId": "polyglot-notebook"
    }
   },
   "outputs": [],
   "source": [
    "Install-Module Helium"
   ]
  },
  {
   "cell_type": "code",
   "execution_count": null,
   "metadata": {
    "dotnet_interactive": {
     "language": "pwsh"
    },
    "polyglot_notebook": {
     "kernelName": "pwsh"
    },
    "vscode": {
     "languageId": "polyglot-notebook"
    }
   },
   "outputs": [],
   "source": [
    "# Note that Helium may not appear in the current session list...\n",
    "Get-Module"
   ]
  },
  {
   "cell_type": "code",
   "execution_count": null,
   "metadata": {
    "dotnet_interactive": {
     "language": "pwsh"
    },
    "polyglot_notebook": {
     "kernelName": "pwsh"
    },
    "vscode": {
     "languageId": "polyglot-notebook"
    }
   },
   "outputs": [],
   "source": [
    "# List the commands (functions) provided in the Helium module...\n",
    "Get-Command -Module Helium"
   ]
  },
  {
   "cell_type": "code",
   "execution_count": null,
   "metadata": {
    "dotnet_interactive": {
     "language": "pwsh"
    },
    "polyglot_notebook": {
     "kernelName": "pwsh"
    },
    "vscode": {
     "languageId": "polyglot-notebook"
    }
   },
   "outputs": [],
   "source": [
    "# Note that the module now appears because it was implicitly loaded into the current session...\n",
    "Get-Module"
   ]
  },
  {
   "cell_type": "markdown",
   "metadata": {},
   "source": [
    "### Exercise 5 - Install a Module with Context"
   ]
  },
  {
   "cell_type": "code",
   "execution_count": null,
   "metadata": {
    "dotnet_interactive": {
     "language": "pwsh"
    },
    "polyglot_notebook": {
     "kernelName": "pwsh"
    },
    "vscode": {
     "languageId": "polyglot-notebook"
    }
   },
   "outputs": [],
   "source": [
    "if (-not (Get-Module ImportExcel -ListAvailable)) {\n",
    "\tInstall-Module ImportExcel -Scope CurrentUser\n",
    "} else {\n",
    "\tWrite-Host \"ImportExcel is already installed\"\n",
    "}"
   ]
  },
  {
   "cell_type": "code",
   "execution_count": null,
   "metadata": {
    "dotnet_interactive": {
     "language": "pwsh"
    },
    "polyglot_notebook": {
     "kernelName": "pwsh"
    },
    "vscode": {
     "languageId": "polyglot-notebook"
    }
   },
   "outputs": [],
   "source": [
    "Get-Module ImportExcel -ListAvailable | Select-Object Path"
   ]
  },
  {
   "cell_type": "markdown",
   "metadata": {},
   "source": [
    "### Exercise 6 - Module Dependencies"
   ]
  },
  {
   "cell_type": "markdown",
   "metadata": {},
   "source": [
    "Compare the output of the following examples."
   ]
  },
  {
   "cell_type": "code",
   "execution_count": null,
   "metadata": {
    "dotnet_interactive": {
     "language": "pwsh"
    },
    "polyglot_notebook": {
     "kernelName": "pwsh"
    },
    "vscode": {
     "languageId": "polyglot-notebook"
    }
   },
   "outputs": [],
   "source": [
    "Find-Module Az.Automation | Select-Object -ExpandProperty Dependencies"
   ]
  },
  {
   "cell_type": "code",
   "execution_count": null,
   "metadata": {
    "dotnet_interactive": {
     "language": "pwsh"
    },
    "polyglot_notebook": {
     "kernelName": "pwsh"
    },
    "vscode": {
     "languageId": "polyglot-notebook"
    }
   },
   "outputs": [],
   "source": [
    "Find-Module Az.Automation -RequiredVersion 1.6.0 | Select-Object -ExpandProperty Dependencies"
   ]
  },
  {
   "cell_type": "markdown",
   "metadata": {},
   "source": [
    "### Exercise 7 - Create a Module"
   ]
  },
  {
   "cell_type": "markdown",
   "metadata": {},
   "source": [
    "\n",
    "1. Create a file named ```MyDates.psm1```, in a convenient location/path. For this exercise we'll use C:\\TEMP, but any path is fine.\n",
    "2. Add 2 or more functions within MyDates.psm1. For example:\n",
    "   \n",
    "   ```powershell\n",
    "   function Get-FutureDate {\n",
    "\t  param (\n",
    "\t\t[parameter(Mandatory)][datetime]$Date,\n",
    "\t\t[parameter()][int]$DaysInTheFuture = 0\n",
    "\t  )\n",
    "      (Get-Date $Date).AddDays($DaysInTheFuture)\n",
    "   }\n",
    "\n",
    "   function Get-PastDate {\n",
    "\t  param (\n",
    "\t\t[parameter(Mandatory)][datetime]$Date,\n",
    "\t\t[parameter()][int]$DaysBack = 0\n",
    "\t  )\n",
    "\t  (Get-Date $Date).AddDays(-$DaysBack)\n",
    "   }\n",
    "   ```\n",
    "3. Save and close the module file"
   ]
  },
  {
   "cell_type": "code",
   "execution_count": null,
   "metadata": {
    "dotnet_interactive": {
     "language": "pwsh"
    },
    "polyglot_notebook": {
     "kernelName": "pwsh"
    },
    "vscode": {
     "languageId": "polyglot-notebook"
    }
   },
   "outputs": [],
   "source": [
    "if (Test-Path \"C:\\TEMP\\MyDates.psm1\") {\n",
    "\tImport-Module C:\\TEMP\\MyDates.psm1\n",
    "\tGet-Module\n",
    "} else {\n",
    "\tWrite-Warning \"Make sure you saved the MyDates.psm1 in the correct path.\"\n",
    "}"
   ]
  },
  {
   "cell_type": "markdown",
   "metadata": {},
   "source": [
    "### Exercise 8 - Create a Module Manifest"
   ]
  },
  {
   "cell_type": "markdown",
   "metadata": {},
   "source": [
    "\n",
    "Using the same MyDates.psm1 module, we'll create a .psd1 manifest to provide additional details about your module."
   ]
  },
  {
   "cell_type": "code",
   "execution_count": null,
   "metadata": {
    "dotnet_interactive": {
     "language": "pwsh"
    },
    "polyglot_notebook": {
     "kernelName": "pwsh"
    },
    "vscode": {
     "languageId": "polyglot-notebook"
    }
   },
   "outputs": [],
   "source": [
    "cd C:\\TEMP"
   ]
  },
  {
   "cell_type": "code",
   "execution_count": null,
   "metadata": {
    "dotnet_interactive": {
     "language": "pwsh"
    },
    "polyglot_notebook": {
     "kernelName": "pwsh"
    },
    "vscode": {
     "languageId": "polyglot-notebook"
    }
   },
   "outputs": [],
   "source": [
    "New-ModuleManifest -Path C:\\TEMP\\MyDates.psd1 -RootModule .\\MyDates.psm1"
   ]
  },
  {
   "cell_type": "markdown",
   "metadata": {},
   "source": [
    "\n",
    "* In Windows File Explorer, view the contents of the module directory (e.g. C:\\TEMP)\n",
    "* Open the new MyDates.psd1 file in your editor (Notepad, Visual Studio Code, etc.)\n",
    "   \n",
    "   * Notice how every line has a comment above it to explain its purpose.\n",
    "   * Most properties are commented out. If you didn't specify them in step 3, they use default values.\n",
    "  \n",
    "* Close the file in your editor, and Delete the file MyDates.psd1.\n",
    "* Repeat step 3 but include inputs for the parameters:\n",
    "\n",
    "   Property | Value\n",
    "   --|--\n",
    "   Path | C:\\TEMP\\MyDates.psd1\n",
    "   Author | (your name)\n",
    "   CompanyName | Quisitive\n",
    "   Copyright | 2023 Quisitive. All rights reserved\n",
    "   RootModule | .\\MyDates.psm1\n",
    "   ModuleVersion | 1.0.0\n",
    "   Description | Assorted Date Calculation Tools\n",
    "   PowerShellVersion | 5.1\n",
    "   Tags | Dates"
   ]
  },
  {
   "cell_type": "code",
   "execution_count": null,
   "metadata": {
    "dotnet_interactive": {
     "language": "pwsh"
    },
    "polyglot_notebook": {
     "kernelName": "pwsh"
    },
    "vscode": {
     "languageId": "polyglot-notebook"
    }
   },
   "outputs": [],
   "source": [
    "Import-Module C:\\TEMP\\MyDates.psd1 -Force"
   ]
  },
  {
   "cell_type": "code",
   "execution_count": null,
   "metadata": {
    "dotnet_interactive": {
     "language": "pwsh"
    },
    "polyglot_notebook": {
     "kernelName": "pwsh"
    },
    "vscode": {
     "languageId": "polyglot-notebook"
    }
   },
   "outputs": [],
   "source": [
    "Get-Module MyDates | Select *"
   ]
  },
  {
   "cell_type": "markdown",
   "metadata": {},
   "source": [
    "## Sharing Modules"
   ]
  },
  {
   "cell_type": "markdown",
   "metadata": {},
   "source": [
    "Once you have created a Module, you can share it simply by placing the files in a location where others can access it.\n",
    "\n",
    "If you only wish to share the Module with users who are connected to your organization's network, you can save it to a network file share. Other users can import the Module directlry from the file share, or download it to a local directory. Plan ahead for what will make the most sense when it comes to maintaining the Module later on (e.g. fixing bugs, adding new functions or features)/\n",
    "\n",
    "If you wish to share your Module with the public, there are some additional considerations:\n",
    "\n",
    "* Already a Module with the same Name\n",
    "* Already a Module which covers the same features\n",
    "* Do the other modules support open source contribution (e.g. GitHub)\n",
    "* Do you want to allow public contribution\n",
    "\n",
    "If you cleared all of these considerations, and still wish to make your Module available to the public, you'll need to publish it somewhere which allows for public access, such as PowerShell Gallery (aka PSGallery).\n",
    "\n",
    "* Create a PowerShell Gallery account\n",
    "* Obtain an API key from within your PS Gallery account\n",
    "* Save your API key in a secure, private location (Keeper, LastPass, KeyPass, BitWarden, etc.)\n",
    "* Publish your module to PowerShell Gallery"
   ]
  }
 ],
 "metadata": {
  "language_info": {
   "name": "csharp"
  }
 },
 "nbformat": 4,
 "nbformat_minor": 2
}
