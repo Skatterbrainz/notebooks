{
 "cells": [
  {
   "cell_type": "code",
   "execution_count": null,
   "metadata": {
    "dotnet_interactive": {
     "language": "csharp"
    },
    "polyglot_notebook": {
     "kernelName": "csharp"
    },
    "vscode": {
     "languageId": "polyglot-notebook"
    }
   },
   "outputs": [],
   "source": []
  },
  {
   "cell_type": "markdown",
   "metadata": {},
   "source": []
  },
  {
   "cell_type": "code",
   "execution_count": 1,
   "metadata": {
    "dotnet_interactive": {
     "language": "pwsh"
    },
    "polyglot_notebook": {
     "kernelName": "pwsh"
    },
    "vscode": {
     "languageId": "polyglot-notebook"
    }
   },
   "outputs": [],
   "source": [
    "function Get-Choice {\n",
    "\tparam(\n",
    "\t\t[parameter(Mandatory)][string]$Prompt,\n",
    "\t\t[parameter(Mandatory)][string[]]$Choices,\n",
    "\t\t[parameter(Mandatory)][string]$Default,\n",
    "\t\t[parameter()][string]$Delimiter = \"/\"\n",
    "\t)\n",
    "\t$response = $null\n",
    "\twhile (!$response) {\n",
    "\t\t$choice = Read-Host \"$Prompt... [$($Choices -join $Delimiter)]<$Default>\"\n",
    "\t\tif ([string]::IsNullOrWhiteSpace($choice)) {\n",
    "\t\t\t$response = $Default\n",
    "\t\t} elseif ($choice -in $Choices) {\n",
    "\t\t\t$response = $choice\n",
    "\t\t}\n",
    "\t}\n",
    "\t$response\n",
    "}"
   ]
  },
  {
   "cell_type": "code",
   "execution_count": 2,
   "metadata": {
    "dotnet_interactive": {
     "language": "pwsh"
    },
    "polyglot_notebook": {
     "kernelName": "pwsh"
    },
    "vscode": {
     "languageId": "polyglot-notebook"
    }
   },
   "outputs": [
    {
     "ename": "Error",
     "evalue": "Command cancelled.",
     "output_type": "error",
     "traceback": [
      "Command cancelled."
     ]
    }
   ],
   "source": [
    "Get-Choice -Prompt \"Apply Default or Custom configuration\" -Choices \"C/D\" -Default \"D\""
   ]
  }
 ],
 "metadata": {
  "language_info": {
   "name": "csharp"
  }
 },
 "nbformat": 4,
 "nbformat_minor": 2
}
