{
 "cells": [
  {
   "cell_type": "markdown",
   "metadata": {},
   "source": [
    "# PowerShell Basics: Files"
   ]
  },
  {
   "cell_type": "markdown",
   "metadata": {},
   "source": [
    "### Reading File Contents"
   ]
  },
  {
   "cell_type": "code",
   "execution_count": null,
   "metadata": {
    "vscode": {
     "languageId": "powershell"
    }
   },
   "outputs": [],
   "source": [
    "$filepath = \"C:\\git\\tech-notes\\powershell\\BraveTools.ps1\"\n",
    "\n",
    "if (!(Test-Path $filepath)) { \n",
    "\tWrite-Warning \"File not found: $filepath\"\n",
    "} else {\n",
    "\t$contents = Get-Content -Path \"C:\\git\\tech-notes\\powershell\\BraveTools.ps1\"\n",
    "\t$contents.GetType().Name\n",
    "}"
   ]
  },
  {
   "cell_type": "code",
   "execution_count": null,
   "metadata": {
    "vscode": {
     "languageId": "powershell"
    }
   },
   "outputs": [],
   "source": [
    "$contents = Get-Content -Path $filepath\n",
    "$contents.Length"
   ]
  },
  {
   "cell_type": "code",
   "execution_count": null,
   "metadata": {
    "vscode": {
     "languageId": "powershell"
    }
   },
   "outputs": [],
   "source": [
    "$contents = Get-Content -Path $filepath -Raw\n",
    "$contents.Length"
   ]
  },
  {
   "cell_type": "markdown",
   "metadata": {},
   "source": [
    "### StreamReader"
   ]
  },
  {
   "cell_type": "code",
   "execution_count": null,
   "metadata": {
    "vscode": {
     "languageId": "powershell"
    }
   },
   "outputs": [],
   "source": [
    "$file = [System.IO.StreamReader]::new($filepath)\n",
    "$contents = $file.ReadToEnd()\n",
    "$file.Close()\n",
    "$contents.Length"
   ]
  },
  {
   "cell_type": "markdown",
   "metadata": {},
   "source": [
    "### Writing to Files"
   ]
  },
  {
   "cell_type": "code",
   "execution_count": null,
   "metadata": {
    "vscode": {
     "languageId": "powershell"
    }
   },
   "outputs": [],
   "source": [
    "$filepath = [System.IO.Path]::GetTempFileName()\n",
    "$filepath"
   ]
  },
  {
   "cell_type": "code",
   "execution_count": null,
   "metadata": {
    "vscode": {
     "languageId": "powershell"
    }
   },
   "outputs": [],
   "source": [
    "Start-Process \"explorer.exe\" -ArgumentList \"/e, $env:TEMP\""
   ]
  },
  {
   "cell_type": "code",
   "execution_count": null,
   "metadata": {
    "vscode": {
     "languageId": "powershell"
    }
   },
   "outputs": [],
   "source": [
    "Set-Content -Path $filePath -Value \"This is the first line\" -Force -Encoding ASCII\n",
    "\n",
    "for ($i = 1; $i -le 10; $i++) {\n",
    "\tAdd-Content -Path $filePath -Value \"Line $i - This is another line of text\" -Confirm:$False\n",
    "}"
   ]
  },
  {
   "cell_type": "code",
   "execution_count": null,
   "metadata": {
    "vscode": {
     "languageId": "powershell"
    }
   },
   "outputs": [],
   "source": [
    "cat $filepath"
   ]
  },
  {
   "cell_type": "code",
   "execution_count": null,
   "metadata": {
    "vscode": {
     "languageId": "powershell"
    }
   },
   "outputs": [],
   "source": [
    "\"this is the first line\" | Out-File -Path $filepath -Force -Confirm:$False\n",
    "\n",
    "for ($i = 10; $i -le 20; $i++) {\n",
    "\t\"Line $i - This is another line of text\" | Out-File -Path $filePath -Append\n",
    "}\n",
    "\n",
    "cat $filepath"
   ]
  },
  {
   "cell_type": "code",
   "execution_count": null,
   "metadata": {
    "vscode": {
     "languageId": "powershell"
    }
   },
   "outputs": [],
   "source": [
    "Remove-Item -Path $filepath -Force"
   ]
  }
 ],
 "metadata": {
  "language_info": {
   "name": "python"
  },
  "orig_nbformat": 4
 },
 "nbformat": 4,
 "nbformat_minor": 2
}
